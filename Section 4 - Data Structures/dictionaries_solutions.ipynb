{
 "cells": [
  {
   "cell_type": "code",
   "execution_count": 2,
   "metadata": {},
   "outputs": [
    {
     "name": "stdout",
     "output_type": "stream",
     "text": [
      "{1: 1, 2: 4, 3: 9, 4: 16, 5: 25, 6: 36, 7: 49, 8: 64, 9: 81, 10: 100}\n"
     ]
    }
   ],
   "source": [
    "### Assignment 1: Creating and Accessing Dictionaries\n",
    "\n",
    "# Create a dictionary with the first 10 positive integers as keys and their squares as values. Print the dictionary.\n",
    "dict1 = dict()\n",
    "\n",
    "for i in range(1, 11):\n",
    "  dict1[i] = i ** 2\n",
    "\n",
    "print(dict1)"
   ]
  },
  {
   "cell_type": "code",
   "execution_count": 3,
   "metadata": {},
   "outputs": [
    {
     "name": "stdout",
     "output_type": "stream",
     "text": [
      "25\n",
      "dict_keys([1, 2, 3, 4, 5, 6, 7, 8, 9, 10])\n"
     ]
    }
   ],
   "source": [
    "### Assignment 2: Accessing Dictionary Elements\n",
    "\n",
    "# Print the value of the key 5 and the keys of the dictionary created in Assignment 1.\n",
    "print(dict1[5])\n",
    "print(dict1.keys())"
   ]
  },
  {
   "cell_type": "code",
   "execution_count": 6,
   "metadata": {},
   "outputs": [
    {
     "name": "stdout",
     "output_type": "stream",
     "text": [
      "{2: 4, 3: 9, 4: 16, 5: 25, 6: 36, 7: 49, 8: 64, 9: 81, 10: 100, 11: 121}\n"
     ]
    }
   ],
   "source": [
    "### Assignment 3: Dictionary Methods\n",
    "\n",
    "# Add a new key-value pair (11, 121) to the dictionary created in Assignment 1 and then remove the key-value pair with key 1.\n",
    "# Print the modified dictionary.\n",
    "dict1[11] = 121\n",
    "del dict1[1]\n",
    "print(dict1)\n"
   ]
  },
  {
   "cell_type": "code",
   "execution_count": 9,
   "metadata": {},
   "outputs": [
    {
     "name": "stdout",
     "output_type": "stream",
     "text": [
      "2 4\n",
      "3 9\n",
      "4 16\n",
      "5 25\n",
      "6 36\n",
      "7 49\n",
      "8 64\n",
      "9 81\n",
      "10 100\n",
      "11 121\n"
     ]
    }
   ],
   "source": [
    "### Assignment 4: Iterating Over Dictionaries\n",
    "\n",
    "# Iterate over the dictionary created in Assignment 1 and print each key-value pair.\n",
    "for key, value in dict1.items():\n",
    "  print(key, value)"
   ]
  },
  {
   "cell_type": "code",
   "execution_count": 10,
   "metadata": {},
   "outputs": [
    {
     "name": "stdout",
     "output_type": "stream",
     "text": [
      "{1: 1, 2: 8, 3: 27, 4: 64, 5: 125, 6: 216, 7: 343, 8: 512, 9: 729, 10: 1000}\n"
     ]
    }
   ],
   "source": [
    "### Assignment 5: Dictionary Comprehensions\n",
    "\n",
    "# Create a new dictionary containing the cubes of the first 10 positive integers using a dictionary comprehension. Print the new dictionary.\n",
    "dictB = { i:i ** 3 for i in range(1, 11)}\n",
    "print(dictB)"
   ]
  },
  {
   "cell_type": "code",
   "execution_count": 14,
   "metadata": {},
   "outputs": [
    {
     "data": {
      "text/plain": [
       "{1: 1, 2: 4, 3: 9, 4: 16, 5: 25, 6: 36, 7: 49, 8: 64, 9: 81, 10: 100}"
      ]
     },
     "execution_count": 14,
     "metadata": {},
     "output_type": "execute_result"
    }
   ],
   "source": [
    "### Assignment 6: Merging Dictionaries\n",
    "\n",
    "# Create two dictionaries: one with keys as the first 5 positive integers and values as their squares, and another with keys as the next\n",
    "# 5 positive integers and values as their squares. Merge these dictionaries into a single dictionary and print it.\n",
    "dictC = { i:i ** 2 for i in range(1, 6) }\n",
    "dictD = { i:i ** 2 for i in range(6, 11) }\n",
    "dictMerged = dictC.update(dictD)\n",
    "dictC"
   ]
  },
  {
   "cell_type": "code",
   "execution_count": 18,
   "metadata": {},
   "outputs": [
    {
     "data": {
      "text/plain": [
       "{'name': 'Michael',\n",
       " 'age': 28,\n",
       " 'grades': {'math': 10, 'science': 10, 'english': 10}}"
      ]
     },
     "execution_count": 18,
     "metadata": {},
     "output_type": "execute_result"
    }
   ],
   "source": [
    "### Assignment 7: Nested Dictionaries\n",
    "\n",
    "# Create a nested dictionary representing a student with keys 'name', 'age', 'grades', where 'grades' is another\n",
    "# dictionary with keys 'math', 'science', and 'english'. Print the nested dictionary.\n",
    "student = {\n",
    "  'name': 'Michael',\n",
    "  'age': 28,\n",
    "  'grades': {\n",
    "    'math': 10,\n",
    "    'science': 10,\n",
    "    'english': 10,\n",
    "  },\n",
    "}\n",
    "student"
   ]
  },
  {
   "cell_type": "code",
   "execution_count": null,
   "metadata": {},
   "outputs": [
    {
     "data": {
      "text/plain": [
       "{1: [1, 2, 3, 4, 5],\n",
       " 2: [2, 4, 6, 8, 10],\n",
       " 3: [3, 6, 9, 12, 15],\n",
       " 4: [4, 8, 12, 16, 20],\n",
       " 5: [5, 10, 15, 20, 25]}"
      ]
     },
     "execution_count": 21,
     "metadata": {},
     "output_type": "execute_result"
    }
   ],
   "source": [
    "### Assignment 8: Dictionary of Lists\n",
    "\n",
    "# Create a dictionary where the keys are the first 5 positive integers and the values are\n",
    "# lists containing the first 5 multiples of the key. Print the dictionary.\n",
    "\n",
    "dictA = {i: [i * j  for j in range(1, 6)] for i in range(1, 6)}\n",
    "dictA"
   ]
  },
  {
   "cell_type": "code",
   "execution_count": 23,
   "metadata": {},
   "outputs": [
    {
     "name": "stdout",
     "output_type": "stream",
     "text": [
      "{1: (1, 1), 2: (2, 4), 3: (3, 9), 4: (4, 16), 5: (5, 25)}\n"
     ]
    }
   ],
   "source": [
    "### Assignment 9: Dictionary of Tuples\n",
    "\n",
    "# Create a dictionary where the keys are the first 5 positive integers and the values are tuples containing the key and its square.\n",
    "# Print the dictionary.\n",
    "\n",
    "myDict = {i: (i, i ** 2) for i in range(1, 6)}\n",
    "print(myDict)"
   ]
  },
  {
   "cell_type": "code",
   "execution_count": 28,
   "metadata": {},
   "outputs": [
    {
     "name": "stdout",
     "output_type": "stream",
     "text": [
      "[(1, 1), (2, 4), (3, 9), (4, 16), (5, 25)]\n"
     ]
    }
   ],
   "source": [
    "### Assignment 10: Dictionary and List Conversion\n",
    "\n",
    "# Create a dictionary with the first 5 positive integers as keys and their squares as values.\n",
    "# Convert the dictionary to a list of tuples and print it.\n",
    "myDict = {i: i ** 2 for i in range(1, 6)}\n",
    "\n",
    "myDict\n",
    "\n",
    "dictKeys = myDict.keys()\n",
    "dictValues = myDict.values()\n",
    "tupleList = list(zip(dictKeys, dictValues))\n",
    "print(tupleList)"
   ]
  },
  {
   "cell_type": "code",
   "execution_count": 34,
   "metadata": {},
   "outputs": [
    {
     "name": "stdout",
     "output_type": "stream",
     "text": [
      "{2: 4, 4: 16, 6: 36, 8: 64, 10: 100}\n"
     ]
    }
   ],
   "source": [
    "### Assignment 11: Dictionary Filtering\n",
    "\n",
    "# Create a dictionary with the first 10 positive integers as keys and their squares as values.\n",
    "# Create a new dictionary containing only the key-value pairs where the key is even. Print the new dictionary.\n",
    "dictA = {i:i ** 2 for i in range(1, 11)}\n",
    "dictB = {key:value for key, value in dictA.items() if key % 2 == 0}\n",
    "print(dictB)"
   ]
  },
  {
   "cell_type": "code",
   "execution_count": 36,
   "metadata": {},
   "outputs": [
    {
     "name": "stdout",
     "output_type": "stream",
     "text": [
      "{1: 1, 4: 2, 9: 3, 16: 4, 25: 5}\n"
     ]
    }
   ],
   "source": [
    "### Assignment 12: Dictionary Key and Value Transformation\n",
    "\n",
    "# Create a dictionary with the first 5 positive integers as keys and their squares as values.\n",
    "# Create a new dictionary with keys and values swapped. Print the new dictionary.\n",
    "dictA = {i:i ** 2 for i in range(1, 6)}\n",
    "dictB = {value:key for key, value in dictA.items()}\n",
    "print(dictB)"
   ]
  },
  {
   "cell_type": "code",
   "execution_count": 38,
   "metadata": {},
   "outputs": [
    {
     "name": "stdout",
     "output_type": "stream",
     "text": [
      "{'a': [1, 2, 3], 'b': [4, 5, 6]}\n"
     ]
    }
   ],
   "source": [
    "### Assignment 13: Default Dictionary\n",
    "\n",
    "# Create a default dictionary where each key has a default value of an empty list.\n",
    "# Add some elements to the lists and print the dictionary.\n",
    "defaultDict = {\n",
    "  'a': [],\n",
    "  'b': [],\n",
    "}\n",
    "defaultDict['a'].append(1)\n",
    "defaultDict['a'].append(2)\n",
    "defaultDict['a'].append(3)\n",
    "defaultDict['b'].append(4)\n",
    "defaultDict['b'].append(5)\n",
    "defaultDict['b'].append(6)\n",
    "print(defaultDict)"
   ]
  },
  {
   "cell_type": "code",
   "execution_count": 42,
   "metadata": {},
   "outputs": [
    {
     "name": "stdout",
     "output_type": "stream",
     "text": [
      "{'a': 2, 'b': 5, 'c': 1}\n"
     ]
    }
   ],
   "source": [
    "### Assignment 14: Counting with Dictionaries\n",
    "\n",
    "# Write a function that takes a string and returns a dictionary with the count of each character in the string. Print the dictionary.\n",
    "def charCount(str):\n",
    "  result = {}\n",
    "  charList = [*str]\n",
    "  for char in charList:\n",
    "    if result.get(char):\n",
    "      result[char] = result[char] + 1\n",
    "    else:\n",
    "      result[char] = 1\n",
    "  return result\n",
    "\n",
    "print(charCount('aabbbbbc'))"
   ]
  },
  {
   "cell_type": "code",
   "execution_count": 43,
   "metadata": {},
   "outputs": [
    {
     "name": "stdout",
     "output_type": "stream",
     "text": [
      "{\n",
      "    \"title\": \"The Silence of the Lambs\",\n",
      "    \"author\": \"Thomas Harris\",\n",
      "    \"year\": 1988,\n",
      "    \"genre\": \"psychological horror crime thriller\"\n",
      "}\n"
     ]
    }
   ],
   "source": [
    "### Assignment 15: Dictionary and JSON\n",
    "import json\n",
    "\n",
    "# Create a dictionary representing a book with keys 'title', 'author', 'year', and 'genre'.\n",
    "# Convert the dictionary to a JSON string and print it.\n",
    "book = {\n",
    "  'title': 'The Silence of the Lambs',\n",
    "  'author': 'Thomas Harris',\n",
    "  'year': 1988,\n",
    "  'genre': 'psychological horror crime thriller'\n",
    "}\n",
    "json_str = json.dumps(book, indent = 4)\n",
    "print(json_str)"
   ]
  },
  {
   "cell_type": "code",
   "execution_count": null,
   "metadata": {},
   "outputs": [],
   "source": []
  },
  {
   "cell_type": "code",
   "execution_count": null,
   "metadata": {},
   "outputs": [],
   "source": []
  },
  {
   "cell_type": "code",
   "execution_count": null,
   "metadata": {},
   "outputs": [],
   "source": []
  }
 ],
 "metadata": {
  "kernelspec": {
   "display_name": "Python 3",
   "language": "python",
   "name": "python3"
  },
  "language_info": {
   "codemirror_mode": {
    "name": "ipython",
    "version": 3
   },
   "file_extension": ".py",
   "mimetype": "text/x-python",
   "name": "python",
   "nbconvert_exporter": "python",
   "pygments_lexer": "ipython3",
   "version": "3.12.0"
  }
 },
 "nbformat": 4,
 "nbformat_minor": 2
}
