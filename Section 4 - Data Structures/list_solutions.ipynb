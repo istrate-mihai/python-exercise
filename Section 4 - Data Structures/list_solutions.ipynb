{
 "cells": [
  {
   "cell_type": "code",
   "execution_count": 2,
   "metadata": {},
   "outputs": [
    {
     "name": "stdout",
     "output_type": "stream",
     "text": [
      "[1, 2, 3, 4, 5, 6, 7, 8, 9, 10, 11, 12, 13, 14, 15, 16, 17, 18, 19, 20]\n"
     ]
    }
   ],
   "source": [
    "### Assignment 1: Creating and Accessing Lists\n",
    "\n",
    "# Create a list of the first 20 positive integers. Print the list.\n",
    "\n",
    "list_a = [i for i in range(1, 21)]\n",
    "print(list_a)"
   ]
  },
  {
   "cell_type": "code",
   "execution_count": 3,
   "metadata": {},
   "outputs": [
    {
     "name": "stdout",
     "output_type": "stream",
     "text": [
      "1\n",
      "10\n",
      "20\n"
     ]
    }
   ],
   "source": [
    "### Assignment 2: Accessing List Elements\n",
    "\n",
    "# Print the first, middle, and last elements of the list created in Assignment 1.\n",
    "print(list_a[0])\n",
    "middleIndex = (len(list_a) // 2) - 1\n",
    "print(list_a[middleIndex])\n",
    "print(list_a[-1])"
   ]
  },
  {
   "cell_type": "code",
   "execution_count": 4,
   "metadata": {},
   "outputs": [
    {
     "name": "stdout",
     "output_type": "stream",
     "text": [
      "[1, 2, 3, 4, 5]\n",
      "[16, 17, 18, 19, 20]\n",
      "[6, 7, 8, 9, 10, 11, 12, 13, 14, 15, 16]\n"
     ]
    }
   ],
   "source": [
    "### Assignment 3: List Slicing\n",
    "\n",
    "# Print the first five elements, the last five elements, and the elements from index 5 to 15 of the list created in Assignment 1.\n",
    "\n",
    "print(list_a[:5])\n",
    "print(list_a[-5:])\n",
    "print(list_a[5:16])"
   ]
  },
  {
   "cell_type": "code",
   "execution_count": 5,
   "metadata": {},
   "outputs": [
    {
     "name": "stdout",
     "output_type": "stream",
     "text": [
      "[1, 4, 9, 16, 25, 36, 49, 64, 81, 100]\n"
     ]
    }
   ],
   "source": [
    "### Assignment 4: List Comprehensions\n",
    "\n",
    "# Create a new list containing the squares of the first 10 positive integers using a list comprehension. Print the new list.\n",
    "list2 = [i**2 for i in range(1, 11)]\n",
    "print(list2)"
   ]
  },
  {
   "cell_type": "code",
   "execution_count": 6,
   "metadata": {},
   "outputs": [
    {
     "name": "stdout",
     "output_type": "stream",
     "text": [
      "[4, 16, 36, 64, 100]\n"
     ]
    }
   ],
   "source": [
    "### Assignment 5: Filtering Lists\n",
    "\n",
    "# Create a new list containing only the even numbers from the list created in Assignment 1 using a list comprehension. Print the new list.\n",
    "list3 = [i for i in list2 if i % 2 == 0]\n",
    "print(list3)"
   ]
  },
  {
   "cell_type": "code",
   "execution_count": 7,
   "metadata": {},
   "outputs": [
    {
     "name": "stdout",
     "output_type": "stream",
     "text": [
      "[17, 16, 15, 6, 3]\n"
     ]
    }
   ],
   "source": [
    "### Assignment 6: List Methods\n",
    "\n",
    "# Create a list of random numbers and sort it in ascending and descending order. Remove the duplicates from the list and print the modified list.\n",
    "import random\n",
    "list4 = [i for i in range(1, 20)]\n",
    "random.shuffle(list4)\n",
    "randomList = list4[:5]\n",
    "randomList.sort()\n",
    "randomList.sort(reverse=True)\n",
    "listModified = list(dict.fromkeys(randomList))\n",
    "print(listModified)"
   ]
  },
  {
   "cell_type": "code",
   "execution_count": 8,
   "metadata": {},
   "outputs": [
    {
     "name": "stdout",
     "output_type": "stream",
     "text": [
      "[[1, 2, 3], [1, 2, 3], [1, 2, 3]]\n",
      "3\n"
     ]
    }
   ],
   "source": [
    "### Assignment 7: Nested Lists\n",
    "\n",
    "# Create a nested list representing a 3x3 matrix and print the matrix. Access and print the element at the second row and third column.\n",
    "itemList = range(1, 4)\n",
    "matrix   = []\n",
    "\n",
    "for i in itemList:\n",
    "  matrix.append([j for j in itemList])\n",
    "\n",
    "print(matrix)\n",
    "print(matrix[1][2])"
   ]
  },
  {
   "cell_type": "code",
   "execution_count": 9,
   "metadata": {},
   "outputs": [
    {
     "name": "stdout",
     "output_type": "stream",
     "text": [
      "[{'name': 'John', 'score': 1}, {'name': 'Michalel', 'score': 2}, {'name': 'Laura', 'score': 5}]\n"
     ]
    }
   ],
   "source": [
    "### Assignment 8: List of Dictionaries\n",
    "\n",
    "import random\n",
    "random.seed(42)\n",
    "\n",
    "# Create a list of dictionaries where each dictionary represents a student with keys 'name' and 'score'.\n",
    "# Sort the list of dictionaries by the 'score' in descending order and print the sorted list.\n",
    "nameList = ['Michalel', 'John', 'Laura']\n",
    "listDict = []\n",
    "\n",
    "for name in nameList:\n",
    "  listDict.append({\n",
    "    'name': name,\n",
    "    'score': random.randint(1, 10)\n",
    "  })\n",
    "listDict = sorted(listDict, key=lambda x: x['score'])\n",
    "print(listDict)"
   ]
  },
  {
   "cell_type": "code",
   "execution_count": 28,
   "metadata": {},
   "outputs": [],
   "source": [
    "### Assignment 9: Matrix Transposition\n",
    "\n",
    "# Write a function that takes a 3x3 matrix (nested list) as input and returns its transpose. Print the original and transposed matrices.\n",
    "# A = [ [1, 1, 1, 1], \n",
    "#  [2, 2, 2, 2], \n",
    "#  [3, 3, 3, 3], \n",
    "#  [4, 4, 4, 4]]\n",
    "\n",
    "# AT = []\n",
    "# matrixLength = len(A)\n",
    "# iterateRange = range(matrixLength)\n",
    "# # matrixTransposed = matrix[:][:]\n",
    "\n",
    "# for i in iterateRange:\n",
    "#   AT.append([])\n",
    "#   for j in iterateRange:\n",
    "#     # print(A[i][j])\n",
    "#     # print(A[j][i])\n",
    "#     AT[i][j] = A[j][i]\n",
    "\n",
    "# # print(A)\n",
    "# print(AT)"
   ]
  },
  {
   "cell_type": "code",
   "execution_count": 30,
   "metadata": {},
   "outputs": [
    {
     "name": "stdout",
     "output_type": "stream",
     "text": [
      "[1, 1, 1, 1, 2, 2, 2, 2, 3, 3, 3, 3, 4, 4, 4, 4]\n"
     ]
    }
   ],
   "source": [
    "### Assignment 10: Flattening a Nested List\n",
    "\n",
    "# Write a function that takes a nested list and flattens it into a single list. Print the original and flattened lists.\n",
    "A = [ [1, 1, 1, 1], \n",
    " [2, 2, 2, 2], \n",
    " [3, 3, 3, 3], \n",
    " [4, 4, 4, 4]]\n",
    "\n",
    "B = [y for x in A for y in x]\n",
    "\n",
    "print(B)"
   ]
  },
  {
   "cell_type": "code",
   "execution_count": 34,
   "metadata": {},
   "outputs": [
    {
     "name": "stdout",
     "output_type": "stream",
     "text": [
      "[1, 2, 3, 4, 5, 6, 7, 8, 9, 10]\n",
      "[1, 2, 4, 6, 8, '99', 10]\n"
     ]
    }
   ],
   "source": [
    "### Assignment 11: List Manipulation\n",
    "\n",
    "# Create a list of the first 10 positive integers.\n",
    "# Remove the elements at indices 2, 4, and 6, and insert the element '99' at index 5. Print the modified list.\n",
    "\n",
    "integerList = list(range(1, 11))\n",
    "\n",
    "print(integerList)\n",
    "integerList.pop(6)\n",
    "\n",
    "integerList.pop(4)\n",
    "integerList.pop(2)\n",
    "\n",
    "integerList[5] = '99'\n",
    "print(integerList)\n",
    "# 3, 5, 7\n"
   ]
  },
  {
   "cell_type": "code",
   "execution_count": 37,
   "metadata": {},
   "outputs": [
    {
     "name": "stdout",
     "output_type": "stream",
     "text": [
      "[(1, 5), (2, 6), (3, 7), (4, 8)]\n"
     ]
    }
   ],
   "source": [
    "### Assignment 12: List Zipping\n",
    "\n",
    "# Create two lists of the same length. Use the `zip` function to combine these lists into a list of tuples and print the result.\n",
    "listA = [1, 2, 3, 4]\n",
    "listB = [5, 6, 7, 8]\n",
    "\n",
    "listZipped = list(zip(listA, listB))\n",
    "print(listZipped)"
   ]
  },
  {
   "cell_type": "code",
   "execution_count": 40,
   "metadata": {},
   "outputs": [
    {
     "name": "stdout",
     "output_type": "stream",
     "text": [
      "[1, 2, 3, 4]\n",
      "[4, 3, 2, 1]\n"
     ]
    }
   ],
   "source": [
    "### Assignment 13: List Reversal\n",
    "\n",
    "# Write a function that takes a list and returns a new list with the elements in reverse order. Print the original and reversed lists.\n",
    "listA = [1, 2, 3, 4]\n",
    "listB = listA[::-1]\n",
    "print(listA)\n",
    "print(listB)"
   ]
  },
  {
   "cell_type": "code",
   "execution_count": 44,
   "metadata": {},
   "outputs": [
    {
     "name": "stdout",
     "output_type": "stream",
     "text": [
      "[3, 4, 5, 1, 2]\n",
      "[4, 5, 1, 2, 3]\n"
     ]
    }
   ],
   "source": [
    "### Assignment 14: List Rotation\n",
    "\n",
    "# Write a function that rotates a list by n positions. Print the original and rotated lists.\n",
    "listA = [1, 2, 3, 4, 5]\n",
    "rotateLength = 2\n",
    "rotatedLeft = listA[rotateLength:] + listA[:rotateLength]\n",
    "rotatedRight = listA[-rotateLength:] + listA[:rotateLength+1]\n",
    "print(rotatedLeft)\n",
    "print(rotatedRight)\n"
   ]
  },
  {
   "cell_type": "code",
   "execution_count": 1,
   "metadata": {},
   "outputs": [
    {
     "data": {
      "text/plain": [
       "[4, 5]"
      ]
     },
     "execution_count": 1,
     "metadata": {},
     "output_type": "execute_result"
    }
   ],
   "source": [
    "### Assignment 15: List Intersection\n",
    "\n",
    "# Write a function that takes two lists and returns a new list containing only the elements that are present in both lists.\n",
    "# Print the intersected list.\n",
    "listA = [1, 2, 3, 4, 5]\n",
    "listB = [4, 5, 6, 7, 8]\n",
    "\n",
    "setA = set(listA)\n",
    "setB = set(listB)\n",
    "\n",
    "intersectList = list(setA.intersection(setB))\n",
    "intersectList"
   ]
  },
  {
   "cell_type": "code",
   "execution_count": null,
   "metadata": {},
   "outputs": [],
   "source": []
  }
 ],
 "metadata": {
  "kernelspec": {
   "display_name": "Python 3",
   "language": "python",
   "name": "python3"
  },
  "language_info": {
   "codemirror_mode": {
    "name": "ipython",
    "version": 3
   },
   "file_extension": ".py",
   "mimetype": "text/x-python",
   "name": "python",
   "nbconvert_exporter": "python",
   "pygments_lexer": "ipython3",
   "version": "3.12.0"
  }
 },
 "nbformat": 4,
 "nbformat_minor": 2
}
