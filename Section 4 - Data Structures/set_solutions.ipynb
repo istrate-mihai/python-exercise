{
 "cells": [
  {
   "cell_type": "code",
   "execution_count": 1,
   "metadata": {},
   "outputs": [
    {
     "name": "stdout",
     "output_type": "stream",
     "text": [
      "{1, 2, 3, 4, 5, 6, 7, 8, 9, 10}\n"
     ]
    }
   ],
   "source": [
    "### Assignment 1: Creating and Accessing Sets\n",
    "\n",
    "# Create a set with the first 10 positive integers. Print the set.\n",
    "set1 = set([i for i in range(1, 11)])\n",
    "print(set1)"
   ]
  },
  {
   "cell_type": "code",
   "execution_count": 2,
   "metadata": {},
   "outputs": [
    {
     "name": "stdout",
     "output_type": "stream",
     "text": [
      "{1, 2, 3, 4, 5, 6, 7, 8, 9, 10}\n",
      "{2, 3, 4, 5, 6, 7, 8, 9, 10, 11}\n"
     ]
    }
   ],
   "source": [
    "### Assignment 2: Adding and Removing Elements\n",
    "\n",
    "# Add the number 11 to the set created in Assignment 1. Then remove the number 1 from the set. Print the modified set.\n",
    "print(set1)\n",
    "set1.add(11)\n",
    "set1.discard(1)\n",
    "print(set1)"
   ]
  },
  {
   "cell_type": "code",
   "execution_count": 9,
   "metadata": {},
   "outputs": [
    {
     "name": "stdout",
     "output_type": "stream",
     "text": [
      "{1, 2, 3, 4, 5, 6, 8, 10}\n",
      "{2, 4}\n",
      "{1, 3, 5}\n",
      "{1, 3, 5, 6, 8, 10}\n"
     ]
    }
   ],
   "source": [
    "### Assignment 3: Set Operations\n",
    "\n",
    "# Create two sets: one with the first 5 positive integers and another with the first 5 even integers.\n",
    "# Perform and print the results of union, intersection, difference, and symmetric difference operations on these sets.\n",
    "firstFive        = set([i for i in range(1, 6)])\n",
    "firstFiveEven    = set([i for i in range(1, 11) if i % 2 == 0])\n",
    "unionSet         = firstFive.union(firstFiveEven)\n",
    "intersectionSet  = firstFive.intersection(firstFiveEven)\n",
    "differenceSet    = firstFive.difference(firstFiveEven)\n",
    "symmetricDiffSet = firstFive.symmetric_difference(firstFiveEven)\n",
    "print(unionSet)\n",
    "print(intersectionSet)\n",
    "print(differenceSet)\n",
    "print(symmetricDiffSet)"
   ]
  },
  {
   "cell_type": "code",
   "execution_count": 10,
   "metadata": {},
   "outputs": [
    {
     "data": {
      "text/plain": [
       "{1, 4, 9, 16, 25, 36, 49, 64, 81, 100}"
      ]
     },
     "execution_count": 10,
     "metadata": {},
     "output_type": "execute_result"
    }
   ],
   "source": [
    "### Assignment 4: Set Comprehensions\n",
    "\n",
    "# Create a new set containing the squares of the first 10 positive integers using a set comprehension. Print the new set.\n",
    "setSquares = {i ** 2 for i in range(1, 11)}\n",
    "setSquares"
   ]
  },
  {
   "cell_type": "code",
   "execution_count": 11,
   "metadata": {},
   "outputs": [
    {
     "data": {
      "text/plain": [
       "{4, 16, 36, 64, 100}"
      ]
     },
     "execution_count": 11,
     "metadata": {},
     "output_type": "execute_result"
    }
   ],
   "source": [
    "### Assignment 5: Filtering Sets\n",
    "\n",
    "# Create a new set containing only the even numbers from the set created in Assignment 1 using a set comprehension. Print the new set.\n",
    "setEvenSquares = {i for i in setSquares if i % 2 == 0}\n",
    "setEvenSquares"
   ]
  },
  {
   "cell_type": "code",
   "execution_count": 12,
   "metadata": {},
   "outputs": [
    {
     "data": {
      "text/plain": [
       "{1, 2, 3, 4, 5}"
      ]
     },
     "execution_count": 12,
     "metadata": {},
     "output_type": "execute_result"
    }
   ],
   "source": [
    "### Assignment 6: Set Methods\n",
    "\n",
    "# Create a set with duplicate elements and remove the duplicates using set methods. Print the modified set.\n",
    "duplicateSet = {1, 1, 2, 3, 3, 4, 4, 4, 5}\n",
    "duplicateSet"
   ]
  },
  {
   "cell_type": "code",
   "execution_count": 14,
   "metadata": {},
   "outputs": [
    {
     "name": "stdout",
     "output_type": "stream",
     "text": [
      "{1, 2, 3, 4, 5}\n",
      "{1, 2, 3}\n",
      "True\n",
      "True\n"
     ]
    }
   ],
   "source": [
    "### Assignment 7: Subsets and Supersets\n",
    "\n",
    "# Create two sets: one with the first 5 positive integers and another with the first 3 positive integers.\n",
    "# Check if the second set is a subset of the first set and if the first set is a superset of the second set. Print the results.\n",
    "setFirstFive  = {i for i in range(1, 6)}\n",
    "setFirstThree = {i for i in range(1, 4)}\n",
    "print(setFirstFive)\n",
    "print(setFirstThree)\n",
    "print(setFirstThree.issubset(setFirstFive))\n",
    "print(setFirstFive.issuperset(setFirstThree))"
   ]
  },
  {
   "cell_type": "code",
   "execution_count": 25,
   "metadata": {},
   "outputs": [
    {
     "name": "stdout",
     "output_type": "stream",
     "text": [
      "frozenset({'a', 'b', 'c'})\n"
     ]
    },
    {
     "ename": "AttributeError",
     "evalue": "'frozenset' object has no attribute 'add'",
     "output_type": "error",
     "traceback": [
      "\u001b[1;31m---------------------------------------------------------------------------\u001b[0m",
      "\u001b[1;31mAttributeError\u001b[0m                            Traceback (most recent call last)",
      "Cell \u001b[1;32mIn[25], line 6\u001b[0m\n\u001b[0;32m      4\u001b[0m frozenSet \u001b[38;5;241m=\u001b[39m \u001b[38;5;28mfrozenset\u001b[39m([\u001b[38;5;124m'\u001b[39m\u001b[38;5;124ma\u001b[39m\u001b[38;5;124m'\u001b[39m, \u001b[38;5;124m'\u001b[39m\u001b[38;5;124mb\u001b[39m\u001b[38;5;124m'\u001b[39m, \u001b[38;5;124m'\u001b[39m\u001b[38;5;124mc\u001b[39m\u001b[38;5;124m'\u001b[39m])\n\u001b[0;32m      5\u001b[0m \u001b[38;5;28mprint\u001b[39m(frozenSet)\n\u001b[1;32m----> 6\u001b[0m \u001b[43mfrozenSet\u001b[49m\u001b[38;5;241;43m.\u001b[39;49m\u001b[43madd\u001b[49m(\u001b[38;5;241m4\u001b[39m)\n\u001b[0;32m      7\u001b[0m \u001b[38;5;28mprint\u001b[39m(frozenSet)\n",
      "\u001b[1;31mAttributeError\u001b[0m: 'frozenset' object has no attribute 'add'"
     ]
    }
   ],
   "source": [
    "### Assignment 8: Frozenset\n",
    "\n",
    "# Create a frozenset with the first 5 positive integers. Print the frozenset.\n",
    "frozenSet = frozenset(['a', 'b', 'c'])\n",
    "print(frozenSet)\n",
    "frozenSet.add(4)\n",
    "print(frozenSet)"
   ]
  },
  {
   "cell_type": "code",
   "execution_count": 29,
   "metadata": {},
   "outputs": [
    {
     "name": "stdout",
     "output_type": "stream",
     "text": [
      "{1, 2, 3, 4, 5, 6}\n"
     ]
    }
   ],
   "source": [
    "### Assignment 9: Set and List Conversion\n",
    "\n",
    "# Create a set with the first 5 positive integers.\n",
    "# Convert it to a list, append the number 6, and convert it back to a set. Print the resulting set.\n",
    "setFirstFive = {i for i in range(1, 6)}\n",
    "setFirstFive = list(setFirstFive)\n",
    "setFirstFive.append(6)\n",
    "setFirstFive = set(setFirstFive)\n",
    "print(setFirstFive)"
   ]
  },
  {
   "cell_type": "code",
   "execution_count": 35,
   "metadata": {},
   "outputs": [
    {
     "name": "stdout",
     "output_type": "stream",
     "text": [
      "{'{1}': 1, '{2}': 2, '{3}': 3}\n"
     ]
    }
   ],
   "source": [
    "### Assignment 10: Set and Dictionary\n",
    "\n",
    "# Create a dictionary with set keys and integer values. Print the dictionary.\n",
    "setA = set([1])\n",
    "dictA = {\n",
    "  '{1}': 1,\n",
    "  '{2}': 2,\n",
    "  '{3}': 3,\n",
    "}\n",
    "\n",
    "print(dictA)\n"
   ]
  },
  {
   "cell_type": "code",
   "execution_count": 36,
   "metadata": {},
   "outputs": [
    {
     "name": "stdout",
     "output_type": "stream",
     "text": [
      "1\n",
      "2\n",
      "3\n",
      "4\n",
      "5\n"
     ]
    }
   ],
   "source": [
    "### Assignment 11: Iterating Over Sets\n",
    "\n",
    "# Create a set and iterate over the elements, printing each element.\n",
    "setToIterate = set([1, 2, 3, 4, 5])\n",
    "\n",
    "for i in setToIterate:\n",
    "  print(i)"
   ]
  },
  {
   "cell_type": "code",
   "execution_count": 41,
   "metadata": {},
   "outputs": [
    {
     "name": "stdout",
     "output_type": "stream",
     "text": [
      "{1, 2, 3, 4, 5}\n",
      "{2, 3, 4, 5}\n",
      "{3, 4, 5}\n",
      "{4, 5}\n",
      "{5}\n",
      "set()\n"
     ]
    }
   ],
   "source": [
    "### Assignment 12: Removing Elements from Sets\n",
    "\n",
    "# Create a set and remove elements from it until it is empty. Print the set after each removal.\n",
    "setA = set([1, 2, 3, 4, 5])\n",
    "print(setA)\n",
    "\n",
    "while len(setA) != 0:\n",
    "  setA.pop()\n",
    "  print(setA)"
   ]
  },
  {
   "cell_type": "code",
   "execution_count": 43,
   "metadata": {},
   "outputs": [
    {
     "name": "stdout",
     "output_type": "stream",
     "text": [
      "{1, 2, 3, 4, 5, 6, 7, 8, 9, 10}\n"
     ]
    }
   ],
   "source": [
    "### Assignment 13: Set Symmetric Difference Update\n",
    "\n",
    "# Create two sets and update the first set with the symmetric difference of the two sets. Print the modified first set.\n",
    "set1 = set([1, 2, 3, 4, 5])\n",
    "set2 = set([3, 4, 5, 6, 7, 8, 9, 10])\n",
    "\n",
    "symmetricDiff = set1.symmetric_difference(set2)\n",
    "set1.update(symmetricDiff)\n",
    "print(set1)"
   ]
  },
  {
   "cell_type": "code",
   "execution_count": 44,
   "metadata": {},
   "outputs": [
    {
     "name": "stdout",
     "output_type": "stream",
     "text": [
      "False\n",
      "True\n",
      "True\n",
      "False\n"
     ]
    }
   ],
   "source": [
    "### Assignment 14: Set Membership Testing\n",
    "\n",
    "# Create a set and test if certain elements are present in the set. Print the results.\n",
    "setA = set([1, 2, 3, 4, 5, 6])\n",
    "print(7 in setA)\n",
    "print(1 in setA)\n",
    "print(3 in setA)\n",
    "print(10 in setA)"
   ]
  },
  {
   "cell_type": "code",
   "execution_count": 45,
   "metadata": {},
   "outputs": [
    {
     "name": "stdout",
     "output_type": "stream",
     "text": [
      "{(0, 1), (1, 2), (2, 1), (0, 0), (3, 1), (1, 1), (0, 3), (2, 0), (3, 0), (2, 3), (0, 2), (3, 3), (2, 2), (1, 0), (3, 2), (1, 3)}\n"
     ]
    }
   ],
   "source": [
    "### Assignment 15: Set of Tuples\n",
    "\n",
    "# Create a set containing tuples, where each tuple contains two elements. Print the set.\n",
    "setWithTuples = set([(i, j) for i in range(4) for j in range(4)])\n",
    "print(setWithTuples)"
   ]
  },
  {
   "cell_type": "code",
   "execution_count": null,
   "metadata": {},
   "outputs": [],
   "source": []
  }
 ],
 "metadata": {
  "kernelspec": {
   "display_name": "Python 3",
   "language": "python",
   "name": "python3"
  },
  "language_info": {
   "codemirror_mode": {
    "name": "ipython",
    "version": 3
   },
   "file_extension": ".py",
   "mimetype": "text/x-python",
   "name": "python",
   "nbconvert_exporter": "python",
   "pygments_lexer": "ipython3",
   "version": "3.12.0"
  }
 },
 "nbformat": 4,
 "nbformat_minor": 2
}
