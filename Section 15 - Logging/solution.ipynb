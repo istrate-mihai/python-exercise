{
 "cells": [
  {
   "cell_type": "code",
   "execution_count": 1,
   "metadata": {},
   "outputs": [],
   "source": [
    "### Assignment 1: Basic Logging\n",
    "\n",
    "# 1. Write a Python function to create a basic logger that logs messages to a file named `app.log`.\n",
    "# 2. Modify the function to log messages of levels: DEBUG, INFO, WARNING, ERROR, and CRITICAL.\n",
    "\n",
    "import logging\n",
    "import os\n",
    "\n",
    "def create_logger_and_log_msg_1(msg):\n",
    "    logger_1 = logging.getLogger('logger_1')\n",
    "\n",
    "    formatter = logging.Formatter('%(asctime)s - %(levelname)s - %(message)s')\n",
    "\n",
    "    file_handler = logging.FileHandler('app.log')\n",
    "    file_handler.setLevel(logging.DEBUG)\n",
    "    file_handler.setFormatter(formatter)\n",
    "\n",
    "    logger_1.addHandler(file_handler)\n",
    "\n",
    "    logger_1.debug(msg)\n",
    "    logger_1.info(msg)\n",
    "    logger_1.warning(msg)\n",
    "    logger_1.error(msg)\n",
    "    logger_1.critical(msg)\n",
    "\n",
    "create_logger_and_log_msg_1('Logging msg')"
   ]
  },
  {
   "cell_type": "code",
   "execution_count": 2,
   "metadata": {},
   "outputs": [
    {
     "name": "stderr",
     "output_type": "stream",
     "text": [
      "2025-02-26 23:05:15,560 - WARNING - Logging msg 2\n",
      "2025-02-26 23:05:15,560 - ERROR - Logging msg 2\n",
      "2025-02-26 23:05:15,577 - CRITICAL - Logging msg 2\n"
     ]
    }
   ],
   "source": [
    "\n",
    "## Assignment 2: Logging with Different Handlers\n",
    "\n",
    "# 1. Write a Python function to create a logger that logs messages to both a file named `app.log` and the console.\n",
    "# 2. Modify the function to use different logging levels for the file and console handlers.\n",
    "\n",
    "def create_logger_and_log_msg_2(msg):\n",
    "    logger_2 = logging.getLogger('logger_2')\n",
    "\n",
    "    formatter = logging.Formatter('%(asctime)s - %(levelname)s - %(message)s')\n",
    "\n",
    "    file_handler = logging.FileHandler('app.log')\n",
    "    file_handler.setLevel(logging.DEBUG)\n",
    "    file_handler.setFormatter(formatter)\n",
    "\n",
    "    console_handler = logging.StreamHandler()\n",
    "    console_handler.setLevel(logging.INFO)\n",
    "    console_handler.setFormatter(formatter)\n",
    "\n",
    "    logger_2.addHandler(file_handler)\n",
    "    logger_2.addHandler(console_handler)\n",
    "\n",
    "    logger_2.debug(msg)\n",
    "    logger_2.info(msg)\n",
    "    logger_2.warning(msg)\n",
    "    logger_2.error(msg)\n",
    "    logger_2.critical(msg)\n",
    "\n",
    "create_logger_and_log_msg_2('Logging msg 2')"
   ]
  },
  {
   "cell_type": "code",
   "execution_count": 3,
   "metadata": {},
   "outputs": [
    {
     "name": "stderr",
     "output_type": "stream",
     "text": [
      "23:05:16 2025-02-26 - ERROR - Logging message 3\n"
     ]
    }
   ],
   "source": [
    "### Assignment 3: Formatting Log Messages\n",
    "\n",
    "# 1. Write a Python function to create a logger with a custom log message format that includes the timestamp,\n",
    "# logging level, and message.\n",
    "# 2. Modify the function to use different formats for the file and console handlers.\n",
    "\n",
    "def create_logger_and_log_msg_3(msg):\n",
    "    logger_3 = logging.getLogger('logger_3')\n",
    "\n",
    "    file_handler = logging.FileHandler('app.log')\n",
    "    file_handler.setLevel(logging.INFO)\n",
    "    file_formatter = logging.Formatter(\n",
    "        \"{asctime} - {levelname} - {message}\",\n",
    "        style='{',\n",
    "        datefmt=\"%Y-%m-%d %H:%M\",\n",
    "    )\n",
    "    file_handler.setFormatter(file_formatter)\n",
    "\n",
    "    console_handler = logging.StreamHandler()\n",
    "    console_handler.setLevel(logging.DEBUG)\n",
    "    console_formatter = logging.Formatter(\n",
    "        \"{asctime} - {levelname} - {message}\",\n",
    "        style=\"{\",\n",
    "        datefmt=\"%H:%M:%S %Y-%m-%d\"\n",
    "    )\n",
    "    console_handler.setFormatter(console_formatter)\n",
    "\n",
    "    logger_3.addHandler(file_handler)\n",
    "    logger_3.addHandler(console_handler)\n",
    "\n",
    "    logger_3.error(msg)\n",
    "\n",
    "create_logger_and_log_msg_3('Logging message 3')"
   ]
  },
  {
   "cell_type": "code",
   "execution_count": 4,
   "metadata": {},
   "outputs": [],
   "source": [
    "### Assignment 4: Rotating Log Files\n",
    "\n",
    "# 1. Write a Python function to create a logger that uses a rotating file handler, which creates a new log file when\n",
    "# the current log file reaches a certain size.\n",
    "# 2. Modify the function to keep a specified number of backup log files.\n",
    "from logging.handlers import RotatingFileHandler\n",
    "\n",
    "def create_logger_and_log_msg_4(msg):\n",
    "    logger_4 = logging.getLogger('logger_4')\n",
    "    logger_4.setLevel(logging.DEBUG)\n",
    "    handler  = RotatingFileHandler('my_app.log', maxBytes = 200, backupCount=10)\n",
    "\n",
    "    logger_4.addHandler(handler)\n",
    "\n",
    "    for _ in range(10000):\n",
    "        logger_4.debug(msg)\n",
    "\n",
    "# create_logger_and_log_msg_4('Hello World')"
   ]
  },
  {
   "cell_type": "code",
   "execution_count": 5,
   "metadata": {},
   "outputs": [
    {
     "name": "stderr",
     "output_type": "stream",
     "text": [
      "23:05:17 2025-02-26 - ERROR - Can not divide by zero\n",
      "Traceback (most recent call last):\n",
      "  File \"C:\\Users\\imiha\\AppData\\Local\\Temp\\ipykernel_7276\\655641836.py\", line 21, in create_logger_and_log_msg_5\n",
      "    a = b / c\n",
      "        ~~^~~\n",
      "ZeroDivisionError: division by zero\n"
     ]
    }
   ],
   "source": [
    "### Assignment 5: Logging Exceptions\n",
    "\n",
    "# 1. Write a Python function that logs an exception stack trace to a log file when an exception occurs.\n",
    "# 2. Modify the function to log the stack trace at the ERROR level.\n",
    "\n",
    "def create_logger_and_log_msg_5(a, b, c):\n",
    "    logger_5 = logging.getLogger('logger_5')\n",
    "\n",
    "    console_handler = logging.StreamHandler()\n",
    "    console_handler.setLevel(logging.ERROR)\n",
    "    console_formatter = logging.Formatter(\n",
    "        \"{asctime} - {levelname} - {message}\",\n",
    "        style=\"{\",\n",
    "        datefmt=\"%H:%M:%S %Y-%m-%d\"\n",
    "    )\n",
    "    console_handler.setFormatter(console_formatter)\n",
    "\n",
    "    logger_5.addHandler(console_handler)\n",
    "\n",
    "    try:\n",
    "        a = b / c\n",
    "    except ZeroDivisionError as err:\n",
    "        logger_5.error('Can not divide by zero', exc_info = True)\n",
    "\n",
    "create_logger_and_log_msg_5(10, 5, 0)"
   ]
  },
  {
   "cell_type": "code",
   "execution_count": 16,
   "metadata": {},
   "outputs": [
    {
     "name": "stderr",
     "output_type": "stream",
     "text": [
      "Hello World\n",
      "Hello World\n",
      "Hello World\n",
      "Hello World\n",
      "Hello World\n",
      "23:13:36 2025-02-26 - DEBUG - Hello World\n",
      "23:13:36 2025-02-26 - DEBUG - Hello World\n",
      "23:13:36 2025-02-26 - DEBUG - Hello World\n",
      "23:13:36 2025-02-26 - DEBUG - Hello World\n",
      "23:13:36 2025-02-26 - DEBUG - Hello World\n",
      "23:13:36 2025-02-26 - DEBUG - Hello World\n",
      "C:\\Users\\imiha\\AppData\\Local\\Temp\\ipykernel_7276\\147972648.py\n",
      "C:\\Users\\imiha\\AppData\\Local\\Temp\\ipykernel_7276\\147972648.py\n",
      "C:\\Users\\imiha\\AppData\\Local\\Temp\\ipykernel_7276\\147972648.py\n",
      "C:\\Users\\imiha\\AppData\\Local\\Temp\\ipykernel_7276\\147972648.py\n",
      "C:\\Users\\imiha\\AppData\\Local\\Temp\\ipykernel_7276\\147972648.py\n",
      "23:13:36 2025-02-26 - DEBUG - C:\\Users\\imiha\\AppData\\Local\\Temp\\ipykernel_7276\\147972648.py\n",
      "23:13:36 2025-02-26 - DEBUG - C:\\Users\\imiha\\AppData\\Local\\Temp\\ipykernel_7276\\147972648.py\n",
      "23:13:36 2025-02-26 - DEBUG - C:\\Users\\imiha\\AppData\\Local\\Temp\\ipykernel_7276\\147972648.py\n",
      "23:13:36 2025-02-26 - DEBUG - C:\\Users\\imiha\\AppData\\Local\\Temp\\ipykernel_7276\\147972648.py\n",
      "23:13:36 2025-02-26 - DEBUG - C:\\Users\\imiha\\AppData\\Local\\Temp\\ipykernel_7276\\147972648.py\n",
      "23:13:36 2025-02-26 - DEBUG - C:\\Users\\imiha\\AppData\\Local\\Temp\\ipykernel_7276\\147972648.py\n",
      "10\n",
      "10\n",
      "10\n",
      "10\n",
      "10\n",
      "23:13:36 2025-02-26 - DEBUG - 10\n",
      "23:13:36 2025-02-26 - DEBUG - 10\n",
      "23:13:36 2025-02-26 - DEBUG - 10\n",
      "23:13:36 2025-02-26 - DEBUG - 10\n",
      "23:13:36 2025-02-26 - DEBUG - 10\n",
      "23:13:36 2025-02-26 - DEBUG - 10\n",
      "7276\n",
      "7276\n",
      "7276\n",
      "7276\n",
      "7276\n",
      "23:13:36 2025-02-26 - DEBUG - 7276\n",
      "23:13:36 2025-02-26 - DEBUG - 7276\n",
      "23:13:36 2025-02-26 - DEBUG - 7276\n",
      "23:13:36 2025-02-26 - DEBUG - 7276\n",
      "23:13:36 2025-02-26 - DEBUG - 7276\n",
      "23:13:36 2025-02-26 - DEBUG - 7276\n"
     ]
    }
   ],
   "source": [
    "### Assignment 6: Contextual Logging\n",
    "\n",
    "# 1. Write a Python function to create a logger that includes contextual information (e.g., function name, line number)\n",
    "# in the log messages.\n",
    "# 2. Modify the function to include additional contextual information (e.g., user ID, session ID).\n",
    "\n",
    "from inspect import getframeinfo, currentframe\n",
    "\n",
    "def create_logger_and_log_msg_6(msg):\n",
    "    frameinfo = getframeinfo(currentframe())\n",
    "    logger_6  = logging.getLogger('logger_6')\n",
    "\n",
    "    console_handler   = logging.StreamHandler()\n",
    "    console_handler.setLevel(logging.DEBUG)\n",
    "    console_formatter = logging.Formatter(\n",
    "        \"{asctime} - {levelname} - {message}\",\n",
    "        style=\"{\",\n",
    "        datefmt=\"%H:%M:%S %Y-%m-%d\"\n",
    "    )\n",
    "    console_handler.setFormatter(console_formatter)\n",
    "\n",
    "    logger_6.addHandler(console_handler)\n",
    "    logger_6.debug(msg)\n",
    "    logger_6.debug(frameinfo.filename)\n",
    "    logger_6.debug(frameinfo.lineno)\n",
    "    logger_6.debug(os.getpid())\n",
    "\n",
    "create_logger_and_log_msg_6('Hello World')"
   ]
  },
  {
   "cell_type": "code",
   "execution_count": 53,
   "metadata": {},
   "outputs": [],
   "source": [
    "### Assignment 7: Configuring Logging with a Dictionary\n",
    "\n",
    "# 1. Write a Python function to configure logging using a dictionary. The configuration should include handlers for both\n",
    "# file and console logging.\n",
    "# 2. Modify the dictionary to include different logging levels and formats for each handler."
   ]
  },
  {
   "cell_type": "code",
   "execution_count": null,
   "metadata": {},
   "outputs": [],
   "source": [
    "### Assignment 8: Logging in a Multi-Module Application\n",
    "\n",
    "# 1. Write a Python script that sets up logging for a multi-module application. Each module should have its own logger.\n",
    "# 2. Modify the script to propagate log messages from each module's logger to a root logger that handles logging to a file."
   ]
  },
  {
   "cell_type": "code",
   "execution_count": null,
   "metadata": {},
   "outputs": [],
   "source": [
    "### Assignment 9: Logging Performance\n",
    "\n",
    "# 1. Write a Python script to benchmark the performance of logging with different handlers (e.g., file handler, console handler, rotating file handler).\n",
    "# 2. Modify the script to compare the performance of logging with and without message formatting."
   ]
  },
  {
   "cell_type": "code",
   "execution_count": null,
   "metadata": {},
   "outputs": [],
   "source": [
    "### Assignment 10: Advanced Logging Configuration\n",
    "\n",
    "# 1. Write a Python function to configure logging using an external configuration file (e.g., `logging.conf`). The configuration should include handlers for file and console logging.\n",
    "# 2. Modify the configuration file to use different logging levels and formats for each handler."
   ]
  }
 ],
 "metadata": {
  "kernelspec": {
   "display_name": "Python 3",
   "language": "python",
   "name": "python3"
  },
  "language_info": {
   "codemirror_mode": {
    "name": "ipython",
    "version": 3
   },
   "file_extension": ".py",
   "mimetype": "text/x-python",
   "name": "python",
   "nbconvert_exporter": "python",
   "pygments_lexer": "ipython3",
   "version": "3.12.0"
  }
 },
 "nbformat": 4,
 "nbformat_minor": 2
}
