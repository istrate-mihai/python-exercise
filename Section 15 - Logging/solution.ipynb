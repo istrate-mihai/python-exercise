{
 "cells": [
  {
   "cell_type": "code",
   "execution_count": 14,
   "metadata": {},
   "outputs": [
    {
     "name": "stderr",
     "output_type": "stream",
     "text": [
      "DEBUG:logger_1:Logging msg\n",
      "INFO:logger_1:Logging msg\n",
      "WARNING:logger_1:Logging msg\n",
      "ERROR:logger_1:Logging msg\n",
      "CRITICAL:logger_1:Logging msg\n"
     ]
    }
   ],
   "source": [
    "### Assignment 1: Basic Logging\n",
    "\n",
    "# 1. Write a Python function to create a basic logger that logs messages to a file named `app.log`.\n",
    "# 2. Modify the function to log messages of levels: DEBUG, INFO, WARNING, ERROR, and CRITICAL.\n",
    "\n",
    "import logging\n",
    "\n",
    "def create_logger_and_log_msg_1(msg):\n",
    "    logger_1 = logging.getLogger('logger_1')\n",
    "    logger_1.setLevel(logging.DEBUG)\n",
    "    formatter = logging.Formatter('%(asctime)s - %(levelname)s - %(message)s')\n",
    "\n",
    "    file_handler = logging.FileHandler('app.log')\n",
    "    file_handler.setLevel(logging.DEBUG)\n",
    "    file_handler.setFormatter(formatter)\n",
    "\n",
    "    logger_1.debug(msg)\n",
    "    logger_1.info(msg)\n",
    "    logger_1.warning(msg)\n",
    "    logger_1.error(msg)\n",
    "    logger_1.critical(msg)\n",
    "\n",
    "create_logger_and_log_msg_1('Logging msg')"
   ]
  },
  {
   "cell_type": "code",
   "execution_count": null,
   "metadata": {},
   "outputs": [],
   "source": [
    "\n",
    "### Assignment 2: Logging with Different Handlers\n",
    "\n",
    "# 1. Write a Python function to create a logger that logs messages to both a file named `app.log` and the console.\n",
    "# 2. Modify the function to use different logging levels for the file and console handlers.\n",
    "\n",
    "# def create_logger_and_log_msg_2(msg, console_log_level = None):\n",
    "#     logging.basicConfig(level = logging.DEBUG)\n",
    "#     logger_2 = logging.getLogger('logger_2')\n",
    "#     logger_2.debug(msg)\n",
    "\n",
    "# create_logger_and_log_msg_2('Logging msg 2')"
   ]
  },
  {
   "cell_type": "code",
   "execution_count": null,
   "metadata": {},
   "outputs": [],
   "source": [
    "### Assignment 3: Formatting Log Messages\n",
    "\n",
    "# 1. Write a Python function to create a logger with a custom log message format that includes the timestamp, logging level, and message.\n",
    "# 2. Modify the function to use different formats for the file and console handlers."
   ]
  },
  {
   "cell_type": "code",
   "execution_count": null,
   "metadata": {},
   "outputs": [],
   "source": [
    "### Assignment 4: Rotating Log Files\n",
    "\n",
    "# 1. Write a Python function to create a logger that uses a rotating file handler, which creates a new log file when the current log file reaches a certain size.\n",
    "# 2. Modify the function to keep a specified number of backup log files."
   ]
  },
  {
   "cell_type": "code",
   "execution_count": null,
   "metadata": {},
   "outputs": [],
   "source": [
    "### Assignment 5: Logging Exceptions\n",
    "\n",
    "# 1. Write a Python function that logs an exception stack trace to a log file when an exception occurs.\n",
    "# 2. Modify the function to log the stack trace at the ERROR level."
   ]
  },
  {
   "cell_type": "code",
   "execution_count": null,
   "metadata": {},
   "outputs": [],
   "source": [
    "### Assignment 6: Contextual Logging\n",
    "\n",
    "# 1. Write a Python function to create a logger that includes contextual information (e.g., function name, line number) in the log messages.\n",
    "# 2. Modify the function to include additional contextual information (e.g., user ID, session ID)."
   ]
  },
  {
   "cell_type": "code",
   "execution_count": null,
   "metadata": {},
   "outputs": [],
   "source": [
    "### Assignment 7: Configuring Logging with a Dictionary\n",
    "\n",
    "# 1. Write a Python function to configure logging using a dictionary. The configuration should include handlers for both file and console logging.\n",
    "# 2. Modify the dictionary to include different logging levels and formats for each handler."
   ]
  },
  {
   "cell_type": "code",
   "execution_count": null,
   "metadata": {},
   "outputs": [],
   "source": [
    "### Assignment 8: Logging in a Multi-Module Application\n",
    "\n",
    "# 1. Write a Python script that sets up logging for a multi-module application. Each module should have its own logger.\n",
    "# 2. Modify the script to propagate log messages from each module's logger to a root logger that handles logging to a file."
   ]
  },
  {
   "cell_type": "code",
   "execution_count": null,
   "metadata": {},
   "outputs": [],
   "source": [
    "### Assignment 9: Logging Performance\n",
    "\n",
    "# 1. Write a Python script to benchmark the performance of logging with different handlers (e.g., file handler, console handler, rotating file handler).\n",
    "# 2. Modify the script to compare the performance of logging with and without message formatting."
   ]
  },
  {
   "cell_type": "code",
   "execution_count": null,
   "metadata": {},
   "outputs": [],
   "source": [
    "### Assignment 10: Advanced Logging Configuration\n",
    "\n",
    "# 1. Write a Python function to configure logging using an external configuration file (e.g., `logging.conf`). The configuration should include handlers for file and console logging.\n",
    "# 2. Modify the configuration file to use different logging levels and formats for each handler."
   ]
  }
 ],
 "metadata": {
  "kernelspec": {
   "display_name": "Python 3",
   "language": "python",
   "name": "python3"
  },
  "language_info": {
   "codemirror_mode": {
    "name": "ipython",
    "version": 3
   },
   "file_extension": ".py",
   "mimetype": "text/x-python",
   "name": "python",
   "nbconvert_exporter": "python",
   "pygments_lexer": "ipython3",
   "version": "3.12.0"
  }
 },
 "nbformat": 4,
 "nbformat_minor": 2
}
