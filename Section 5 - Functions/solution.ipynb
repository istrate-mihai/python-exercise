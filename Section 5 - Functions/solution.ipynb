{
 "cells": [
  {
   "cell_type": "code",
   "execution_count": 5,
   "metadata": {},
   "outputs": [
    {
     "name": "stdout",
     "output_type": "stream",
     "text": [
      "55\n"
     ]
    }
   ],
   "source": [
    "# # Module 4: Advanced Functions Assignments\n",
    "# ## Lesson 4.1: Defining Functions\n",
    "# Assignment 1: Fibonacci Sequence with Memoization\n",
    "\n",
    "# Define a recursive function to calculate the nth Fibonacci number using memoization. Test the function with different inputs.\n",
    "\n",
    "cache = {}\n",
    "\n",
    "def fibonacci(n):\n",
    "  if n in cache:\n",
    "    return cache.get(n)\n",
    "  \n",
    "  if n == 0:\n",
    "    value = 0\n",
    "  \n",
    "  if n == 1:\n",
    "    value = 1\n",
    "  \n",
    "  if n >= 2:\n",
    "    value = fibonacci(n -1) + fibonacci(n - 2)\n",
    "  \n",
    "  cache[n] = value\n",
    "  return cache.get(n)\n",
    "\n",
    "print(fibonacci(10))"
   ]
  },
  {
   "cell_type": "code",
   "execution_count": null,
   "metadata": {},
   "outputs": [
    {
     "name": "stdout",
     "output_type": "stream",
     "text": [
      "{'a': 'a', 'b': 'b', 'c': 'c'}\n",
      "{'c': 'c'}\n"
     ]
    }
   ],
   "source": [
    "# ### Assignment 2: Function with Nested Default Arguments\n",
    "\n",
    "# Define a function that takes two arguments, a and b, where b is a dictionary with a default value of an empty dictionary.\n",
    "# The function should add a new key-value pair to the dictionary and return it. Test the function with different inputs.\n",
    "\n",
    "def add_key(a, b = {}):\n",
    "  b[a] = a\n",
    "  return b\n",
    "\n",
    "b = dict(a='a', b='b')\n",
    "print(add_key('c', b))\n",
    "print(add_key('c'))"
   ]
  },
  {
   "cell_type": "code",
   "execution_count": null,
   "metadata": {},
   "outputs": [
    {
     "name": "stdout",
     "output_type": "stream",
     "text": [
      "{'key1': 1, 'key2': 2}\n"
     ]
    }
   ],
   "source": [
    "# ### Assignment 3: Function with Variable Keyword Arguments\n",
    "\n",
    "# Define a function that takes a variable number of keyword arguments and returns a dictionary containing only\n",
    "# those key-value pairs where the value is an integer. Test the function with different inputs.\n",
    "\n",
    "def dict_builder(**kwargs):\n",
    "  return dict(kwargs)\n",
    "\n",
    "print(dict_builder(key1 = 1, key2 = 2))"
   ]
  },
  {
   "cell_type": "code",
   "execution_count": null,
   "metadata": {},
   "outputs": [
    {
     "name": "stdout",
     "output_type": "stream",
     "text": [
      "[7, 25, 1]\n",
      "[1, 4, 9, 16, 25, 36, 49, 64]\n"
     ]
    }
   ],
   "source": [
    "# ### Assignment 4: Function with Callback\n",
    "\n",
    "# Define a function that takes another function as a callback and a list of integers.\n",
    "# The function should apply the callback to each integer in the list and return a new list with the results.\n",
    "# Test with different callback functions.\n",
    "\n",
    "def first_order_function(cb, listArgs):\n",
    "  return list(map(cb, listArgs))\n",
    "\n",
    "print(first_order_function(len, ['aaaaaaa', 'aaaaaaaaaaaaaaaaaaaaaaaaa', 'a']))\n",
    "print(first_order_function(lambda x: x * x, [1, 2, 3, 4, 5, 6, 7, 8]))"
   ]
  },
  {
   "cell_type": "code",
   "execution_count": null,
   "metadata": {},
   "outputs": [
    {
     "name": "stdout",
     "output_type": "stream",
     "text": [
      "4\n",
      "16\n"
     ]
    }
   ],
   "source": [
    "# ### Assignment 5: Function that Returns a Function\n",
    "\n",
    "# Define a function that returns another function. The returned function should take an integer and return its square. Test the returned function with different inputs.\n",
    "\n",
    "def highe_order_function():\n",
    "\n",
    "  def square_integer(n):\n",
    "    return n * n\n",
    "  return square_integer\n",
    "\n",
    "f = highe_order_function()\n",
    "print(f(2))\n",
    "print(f(4))"
   ]
  },
  {
   "cell_type": "code",
   "execution_count": null,
   "metadata": {},
   "outputs": [
    {
     "name": "stdout",
     "output_type": "stream",
     "text": [
      "11.815924644470215\n"
     ]
    }
   ],
   "source": [
    "# ### Assignment 6: Function with Decorators\n",
    "\n",
    "# Define a function that calculates the time taken to execute another function.\n",
    "# Apply this decorator to a function that performs a complex calculation. Test the decorated function with different inputs.\n",
    "\n",
    "import time\n",
    "\n",
    "def calculate_exec_time(func):\n",
    "  def wrapper(*args, **kwargs):\n",
    "    start_time = time.time()\n",
    "    func(*args, *kwargs)\n",
    "    return time.time() - start_time\n",
    "  return wrapper\n",
    "\n",
    "@calculate_exec_time\n",
    "def fibonacci_basic(n):\n",
    "  if n == 0:\n",
    "    return 0\n",
    "  if n == 1:\n",
    "    return 1\n",
    "  if n >= 2:\n",
    "    return fibonacci_basic(n - 1) + fibonacci_basic(n - 2)\n",
    "\n",
    "print(fibonacci_basic(34))"
   ]
  },
  {
   "cell_type": "code",
   "execution_count": 33,
   "metadata": {},
   "outputs": [
    {
     "name": "stdout",
     "output_type": "stream",
     "text": [
      "[4, 16, 36, 64, 100]\n"
     ]
    }
   ],
   "source": [
    "# ### Assignment 7: Higher-Order Function for Filtering and Mapping\n",
    "\n",
    "# Define a higher-order function that takes two functions, a filter function and a map function, along with a list of integers.\n",
    "# The higher-order function should first filter the integers using the filter function and then apply the map function to the filtered integers.\n",
    "# Test with different filter and map functions.\n",
    "\n",
    "def get_even_filter(number):\n",
    "  return number % 2 == 0\n",
    "\n",
    "def get_square_map(number):\n",
    "  return number ** 2\n",
    "\n",
    "def higher_order_with_two_operations(filter_function, map_function, integer_list):\n",
    "  filtered_integer_list = filter(filter_function, integer_list)\n",
    "  return list(map(map_function, filtered_integer_list))\n",
    "\n",
    "integer_list = list(range(1, 11))\n",
    "\n",
    "print(higher_order_with_two_operations(get_even_filter, get_square_map, integer_list))"
   ]
  },
  {
   "cell_type": "code",
   "execution_count": 36,
   "metadata": {},
   "outputs": [
    {
     "name": "stdout",
     "output_type": "stream",
     "text": [
      "19\n"
     ]
    }
   ],
   "source": [
    "# ### Assignment 8: Function Composition\n",
    "\n",
    "# Define a function that composes two functions, f and g, such that the result is f(g(x)). Test with different functions f and g.\n",
    "\n",
    "def composition_function(f, g, x):\n",
    "  return f(g(x))\n",
    "\n",
    "def add_function(x):\n",
    "  return x + 10\n",
    "\n",
    "def square_function(x):\n",
    "  return x * x\n",
    "\n",
    "print(composition_function(add_function, square_function, 3))"
   ]
  },
  {
   "cell_type": "code",
   "execution_count": null,
   "metadata": {},
   "outputs": [
    {
     "name": "stdout",
     "output_type": "stream",
     "text": [
      "16\n"
     ]
    }
   ],
   "source": [
    "# ### Assignment 9: Partial Function Application\n",
    "\n",
    "# Use the functools.partial function to create a new function that multiplies its input by 2.\n",
    "# Test the new function with different inputs.\n",
    "\n",
    "from functools import partial\n",
    "\n",
    "def multiply(x, y):\n",
    "  return x * y\n",
    "\n",
    "double = partial(multiply, 2)\n",
    "print(double(8))"
   ]
  },
  {
   "cell_type": "code",
   "execution_count": 39,
   "metadata": {},
   "outputs": [
    {
     "name": "stdout",
     "output_type": "stream",
     "text": [
      "3.5\n"
     ]
    }
   ],
   "source": [
    "# ### Assignment 10: Function with Error Handling\n",
    "\n",
    "# Define a function that takes a list of integers and returns their average.\n",
    "# The function should handle any errors that occur (e.g., empty list) and return None in such cases. Test with different inputs.\n",
    "\n",
    "def average_of_list(integers):\n",
    "  count = len(integers)\n",
    "  if count == 0:\n",
    "    return None\n",
    "\n",
    "  return sum(integers) / count\n",
    "\n",
    "print(average_of_list([1, 2, 3, 4, 5, 6]))"
   ]
  },
  {
   "cell_type": "code",
   "execution_count": null,
   "metadata": {},
   "outputs": [
    {
     "name": "stdout",
     "output_type": "stream",
     "text": [
      "[0, 1, 1, 2, 3, 5, 8, 13, 21, 34, 55]\n"
     ]
    }
   ],
   "source": [
    "# ### Assignment 11: Function with Generators\n",
    "\n",
    "# Define a function that generates an infinite sequence of Fibonacci numbers.\n",
    "# Test by printing the first 10 numbers in the sequence.\n",
    "\n",
    "def fibonacci_sequence(n):\n",
    "  counter = 0\n",
    "  while counter <= n:\n",
    "    yield fibonacci(counter)\n",
    "    counter += 1\n",
    "\n",
    "print(list(fibonacci_sequence(10)))"
   ]
  },
  {
   "cell_type": "code",
   "execution_count": 44,
   "metadata": {},
   "outputs": [
    {
     "name": "stdout",
     "output_type": "stream",
     "text": [
      "6\n"
     ]
    }
   ],
   "source": [
    "# ### Assignment 12: Currying\n",
    "\n",
    "# Define a curried function that takes three arguments, one at a time, and returns their product.\n",
    "# Test the function by providing arguments one at a time.\n",
    "\n",
    "def curried_product(x):\n",
    "  def func_1(y):\n",
    "    def func_2(z):\n",
    "      return x * y * z\n",
    "    return func_2\n",
    "  return func_1\n",
    "\n",
    "print(curried_product(1)(2)(3))"
   ]
  },
  {
   "cell_type": "code",
   "execution_count": 45,
   "metadata": {},
   "outputs": [
    {
     "name": "stdout",
     "output_type": "stream",
     "text": [
      "([12, 134], ['a', 'b', 'c'], [2.5, 1.4, 3.65])\n"
     ]
    }
   ],
   "source": [
    "# ### Assignment 14: Function with Multiple Return Types\n",
    "\n",
    "# Define a function that takes a list of mixed data types (integers, strings, and floats) and returns three lists:\n",
    "# one containing all the integers, one containing all the strings, and one containing all the floats. Test with different inputs.\n",
    "\n",
    "def mixed_lists(*args):\n",
    "  int_list   = []\n",
    "  str_list   = []\n",
    "  float_list = []\n",
    " \n",
    "  for arg in args:\n",
    "    if isinstance(arg, int):\n",
    "      int_list.append(arg)\n",
    "\n",
    "    if isinstance(arg, str):\n",
    "      str_list.append(arg)\n",
    "\n",
    "    if isinstance(arg, float):\n",
    "      float_list.append(arg)\n",
    "\n",
    "  return int_list, str_list, float_list\n",
    "\n",
    "print(mixed_lists('a', 12, 'b', 'c', 2.5, 1.4, 3.65, 134))"
   ]
  },
  {
   "cell_type": "code",
   "execution_count": null,
   "metadata": {},
   "outputs": [
    {
     "name": "stdout",
     "output_type": "stream",
     "text": [
      "6\n",
      "7\n",
      "8\n"
     ]
    }
   ],
   "source": [
    "# ### Assignment 15: Function with State\n",
    "\n",
    "# Define a function that maintains state between calls using a mutable default argument.\n",
    "# The function should keep track of how many times it has been called. Test by calling the function multiple times.\n",
    "\n",
    "def count_state(count = 0):\n",
    "  counter = count\n",
    "\n",
    "  def incremment_count():\n",
    "    nonlocal counter\n",
    "    counter += 1\n",
    "    return counter\n",
    "\n",
    "  return incremment_count\n",
    "\n",
    "count_incremented = count_state(5)\n",
    "print(count_incremented())\n",
    "print(count_incremented())\n",
    "print(count_incremented())"
   ]
  },
  {
   "cell_type": "code",
   "execution_count": null,
   "metadata": {},
   "outputs": [],
   "source": []
  }
 ],
 "metadata": {
  "kernelspec": {
   "display_name": "Python 3",
   "language": "python",
   "name": "python3"
  },
  "language_info": {
   "codemirror_mode": {
    "name": "ipython",
    "version": 3
   },
   "file_extension": ".py",
   "mimetype": "text/x-python",
   "name": "python",
   "nbconvert_exporter": "python",
   "pygments_lexer": "ipython3",
   "version": "3.12.0"
  }
 },
 "nbformat": 4,
 "nbformat_minor": 2
}
