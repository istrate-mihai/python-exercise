{
 "cells": [
  {
   "cell_type": "code",
   "execution_count": 7,
   "metadata": {},
   "outputs": [
    {
     "name": "stdout",
     "output_type": "stream",
     "text": [
      "BMW 2025 ix\n"
     ]
    }
   ],
   "source": [
    "### Assignment 1: Basic Class and Object Creation\n",
    "\n",
    "# Create a class named `Car` with attributes `make`, `model`, and `year`. Create an object of the class and print its attributes.\n",
    "\n",
    "class Car:\n",
    "    def __init__(self, make, model, year):\n",
    "        self.make  = make\n",
    "        self.model = model\n",
    "        self.year  = year\n",
    "    \n",
    "    def start_engine(self):\n",
    "        print('Start Engine')\n",
    "\n",
    "myCar = Car('BMW', 'ix', 2025)\n",
    "print(myCar.make, myCar.year, myCar.model)"
   ]
  },
  {
   "cell_type": "code",
   "execution_count": 8,
   "metadata": {},
   "outputs": [
    {
     "name": "stdout",
     "output_type": "stream",
     "text": [
      "Start Engine\n"
     ]
    }
   ],
   "source": [
    "### Assignment 2: Methods in Class\n",
    "\n",
    "# Add a method named `start_engine` to the `Car` class that prints a message when the engine starts. Create an object of the class and call the method.\n",
    "myCar.start_engine()"
   ]
  },
  {
   "cell_type": "code",
   "execution_count": 11,
   "metadata": {},
   "outputs": [
    {
     "name": "stdout",
     "output_type": "stream",
     "text": [
      "28 Mihai\n"
     ]
    }
   ],
   "source": [
    "### Assignment 3: Class with Constructor\n",
    "\n",
    "# Create a class named `Student` with attributes `name` and `age`. Use a constructor to initialize these attributes. Create an object of the class and print its attributes.\n",
    "\n",
    "class Student:\n",
    "    def __init__(self, name, age):\n",
    "        self.name = name\n",
    "        self.age  = age\n",
    "\n",
    "myStudent = Student('Mihai', 28)\n",
    "print(myStudent.age, myStudent.name)"
   ]
  },
  {
   "cell_type": "code",
   "execution_count": 12,
   "metadata": {},
   "outputs": [
    {
     "name": "stdout",
     "output_type": "stream",
     "text": [
      "Deposit of 500 yields account 1243543647585 with 600 amount\n",
      "Operation concluded.\n",
      "Operation failed.\n",
      "1243543647585\n",
      "Withdraw of 50 yields account 1243543647585 with 550 amount.\n",
      "Operation failed.\n",
      "Operation failed.\n",
      "1243543647585\n"
     ]
    }
   ],
   "source": [
    "### Assignment 4: Class with Private Attributes\n",
    "\n",
    "# Create a class named `BankAccount` with private attributes `account_number` and `balance`. Add methods to deposit and withdraw money, and to check the balance.\n",
    "# Create an object of the class and perform some operations.\n",
    "\n",
    "class BankAccountError(Exception):\n",
    "    def __init__(self, message):\n",
    "        super().__init__(message)\n",
    "\n",
    "class BankAccount:\n",
    "    def __init__(self, account_number, balance):\n",
    "        self.__account_number = account_number\n",
    "        self.__balance        = balance\n",
    "\n",
    "    def deposit(self, account_number, amount):\n",
    "        try:\n",
    "            if len(account_number) == 0:\n",
    "                raise BankAccountError('Invalid Bank Account.')\n",
    "\n",
    "            if amount < 0:\n",
    "                raise BankAccountError('Amount to deposit cannot be negative.')\n",
    "\n",
    "            self.__balance += amount\n",
    "            print(f'Deposit of {amount} yields account {self.__account_number} with {self.__balance} amount')\n",
    "        except BankAccountError as err:\n",
    "            print(f'Deposit operation failed {err}.')\n",
    "        finally:\n",
    "            print('Operation concluded.')\n",
    "\n",
    "    def withdraw(self, account_number, amount):\n",
    "        try:\n",
    "            if len(account_number) == 0:\n",
    "                raise BankAccountError('Invalid Bank Account.')\n",
    "\n",
    "            if amount > self.__balance:\n",
    "               raise BankAccountError('Sum to withdraw is too great.')\n",
    "\n",
    "            self.__balance -= amount\n",
    "            print(f'Withdraw of {amount} yields account {self.__account_number} with {self.__balance} amount.')\n",
    "        except BankAccountError as err:\n",
    "            print(f'Withdraw operation failed {err}.')\n",
    "        finally:\n",
    "            print('Operation failed.')\n",
    "\n",
    "    def check_balance(self, account_number):\n",
    "        try:\n",
    "            if len(account_number) == 0:\n",
    "                raise BankAccountError('Invalid Bank Account.')\n",
    "            value = self.__account_number\n",
    "        except BankAccountError as err:\n",
    "            print(f'Check balance operation failed {err}')\n",
    "            value = None\n",
    "        finally:\n",
    "            print('Operation failed.')\n",
    "        return value\n",
    "    \n",
    "account_number = '1243543647585'\n",
    "\n",
    "my_account = BankAccount(account_number, 100)\n",
    "my_account.deposit(account_number, 500)\n",
    "print(my_account.check_balance(account_number))\n",
    "my_account.withdraw(account_number, 50)\n",
    "print(my_account.check_balance(account_number))"
   ]
  },
  {
   "cell_type": "code",
   "execution_count": null,
   "metadata": {},
   "outputs": [],
   "source": []
  },
  {
   "cell_type": "code",
   "execution_count": null,
   "metadata": {},
   "outputs": [],
   "source": []
  },
  {
   "cell_type": "code",
   "execution_count": null,
   "metadata": {},
   "outputs": [],
   "source": []
  },
  {
   "cell_type": "code",
   "execution_count": null,
   "metadata": {},
   "outputs": [],
   "source": []
  },
  {
   "cell_type": "code",
   "execution_count": null,
   "metadata": {},
   "outputs": [],
   "source": []
  },
  {
   "cell_type": "code",
   "execution_count": null,
   "metadata": {},
   "outputs": [],
   "source": []
  },
  {
   "cell_type": "code",
   "execution_count": null,
   "metadata": {},
   "outputs": [],
   "source": []
  },
  {
   "cell_type": "code",
   "execution_count": null,
   "metadata": {},
   "outputs": [],
   "source": []
  },
  {
   "cell_type": "code",
   "execution_count": null,
   "metadata": {},
   "outputs": [],
   "source": []
  },
  {
   "cell_type": "code",
   "execution_count": null,
   "metadata": {},
   "outputs": [],
   "source": []
  },
  {
   "cell_type": "code",
   "execution_count": null,
   "metadata": {},
   "outputs": [],
   "source": []
  },
  {
   "cell_type": "code",
   "execution_count": null,
   "metadata": {},
   "outputs": [],
   "source": []
  },
  {
   "cell_type": "code",
   "execution_count": null,
   "metadata": {},
   "outputs": [],
   "source": []
  },
  {
   "cell_type": "code",
   "execution_count": null,
   "metadata": {},
   "outputs": [],
   "source": []
  },
  {
   "cell_type": "code",
   "execution_count": null,
   "metadata": {},
   "outputs": [],
   "source": []
  },
  {
   "cell_type": "code",
   "execution_count": null,
   "metadata": {},
   "outputs": [],
   "source": []
  }
 ],
 "metadata": {
  "kernelspec": {
   "display_name": "Python 3",
   "language": "python",
   "name": "python3"
  },
  "language_info": {
   "codemirror_mode": {
    "name": "ipython",
    "version": 3
   },
   "file_extension": ".py",
   "mimetype": "text/x-python",
   "name": "python",
   "nbconvert_exporter": "python",
   "pygments_lexer": "ipython3",
   "version": "3.12.0"
  }
 },
 "nbformat": 4,
 "nbformat_minor": 2
}
