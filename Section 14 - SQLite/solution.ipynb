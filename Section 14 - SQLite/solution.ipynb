{
 "cells": [
  {
   "cell_type": "code",
   "execution_count": 1,
   "metadata": {},
   "outputs": [],
   "source": [
    "import sqlite3"
   ]
  },
  {
   "cell_type": "code",
   "execution_count": null,
   "metadata": {},
   "outputs": [],
   "source": [
    "### Assignment 1: Creating and Connecting to a Database\n",
    "\n",
    "# 1. Write a Python function to create a new SQLite3 database named `test.db`.\n",
    "# 2. Write a Python function to create a table named `employees` with columns `id` (integer), `name` (text), `age` (integer), and `department`\n",
    "# (text) in the `test.db` database.\n",
    "\n",
    "def get_connect_to_sqlite3():\n",
    "    connection = sqlite3.connect('test.db')\n",
    "    return connection\n",
    "\n",
    "def create_table_employees(connection, cursor):\n",
    "    cursor.execute(\n",
    "            '''\n",
    "                CREATE TABLE IF NOT EXISTS `employees` (\n",
    "                    `id` INTEGER PRIMARY KEY NOT NULL,\n",
    "                    `name` TEXT NOT NULL,\n",
    "                    `age` INTEGER NOT NULL,\n",
    "                    `department` TEXT NOT NULL\n",
    "                );\n",
    "            '''\n",
    "        )\n",
    "    connection.commit()\n",
    "\n",
    "connection = get_connect_to_sqlite3()\n",
    "cursor     = connection.cursor()\n",
    "\n",
    "create_table_employees(connection, cursor)"
   ]
  },
  {
   "cell_type": "code",
   "execution_count": 14,
   "metadata": {},
   "outputs": [],
   "source": [
    "### Assignment 2: Inserting Data\n",
    "\n",
    "# 1. Write a Python function to insert a new employee into the `employees` table.\n",
    "# 2. Insert at least 5 different employees into the `employees` table.\n",
    "\n",
    "def insert_employee(connection, cursor, employee_data):\n",
    "    cursor.execute(\n",
    "        f'''\n",
    "            INSERT INTO `employees` (`name`, `age`, `department`)\n",
    "            VALUES (\n",
    "                '{employee_data[0]}',\n",
    "                {employee_data[1]},\n",
    "                '{employee_data[2]}'\n",
    "            );\n",
    "        '''\n",
    "    )\n",
    "    connection.commit()\n",
    "\n",
    "for i in range(5):\n",
    "    employee_data = ('Employee ' + str(i), 28 + i, 'Department ' + str(i))\n",
    "    insert_employee(connection, cursor, employee_data)"
   ]
  },
  {
   "cell_type": "code",
   "execution_count": null,
   "metadata": {},
   "outputs": [
    {
     "name": "stdout",
     "output_type": "stream",
     "text": [
      "(1, 'Employee 1', 28, 'Department 1')\n",
      "(2, 'Employee 1', 28, 'Department 1')\n",
      "(3, 'Employee 1', 28, 'Department 1')\n",
      "(4, 'Employee 1', 28, 'Department 1')\n",
      "(5, 'Employee 1', 28, 'Department 1')\n",
      "(6, 'Employee 1', 28, 'Department 1')\n",
      "(7, 'Employee 1', 28, 'Department 1')\n",
      "(8, 'Employee 0', 28, 'Department 0')\n",
      "(9, 'Employee 1', 29, 'Department 1')\n",
      "(10, 'Employee 2', 30, 'Department 2')\n",
      "(11, 'Employee 3', 31, 'Department 3')\n",
      "(12, 'Employee 4', 32, 'Department 4')\n",
      "(13, 'Employee 0', 28, 'Department 0')\n",
      "(14, 'Employee 1', 29, 'Department 1')\n",
      "(15, 'Employee 2', 30, 'Department 2')\n",
      "(16, 'Employee 3', 31, 'Department 3')\n",
      "(17, 'Employee 4', 32, 'Department 4')\n"
     ]
    }
   ],
   "source": [
    "# ### Assignment 3: Querying Data\n",
    "\n",
    "# 1. Write a Python function to fetch and display all records from the `employees` table.\n",
    "# 2. Write a Python function to fetch and display all employees from a specific department.\n",
    "\n",
    "def get_and_display_data(connection, cursor):\n",
    "    res = cursor.execute(\n",
    "        '''\n",
    "            SELECT * FROM `employees`;\n",
    "        '''\n",
    "    )\n",
    "    rows = res.fetchall()\n",
    "\n",
    "    for row in rows:\n",
    "        print(row)\n",
    "\n",
    "get_and_display_data(connection, cursor)\n"
   ]
  },
  {
   "cell_type": "code",
   "execution_count": null,
   "metadata": {},
   "outputs": [],
   "source": []
  },
  {
   "cell_type": "code",
   "execution_count": null,
   "metadata": {},
   "outputs": [],
   "source": []
  },
  {
   "cell_type": "code",
   "execution_count": null,
   "metadata": {},
   "outputs": [],
   "source": []
  },
  {
   "cell_type": "code",
   "execution_count": null,
   "metadata": {},
   "outputs": [],
   "source": []
  },
  {
   "cell_type": "code",
   "execution_count": null,
   "metadata": {},
   "outputs": [],
   "source": []
  },
  {
   "cell_type": "code",
   "execution_count": null,
   "metadata": {},
   "outputs": [],
   "source": []
  },
  {
   "cell_type": "code",
   "execution_count": null,
   "metadata": {},
   "outputs": [],
   "source": []
  },
  {
   "cell_type": "code",
   "execution_count": null,
   "metadata": {},
   "outputs": [],
   "source": []
  },
  {
   "cell_type": "code",
   "execution_count": null,
   "metadata": {},
   "outputs": [],
   "source": []
  },
  {
   "cell_type": "code",
   "execution_count": null,
   "metadata": {},
   "outputs": [],
   "source": []
  },
  {
   "cell_type": "code",
   "execution_count": null,
   "metadata": {},
   "outputs": [],
   "source": []
  },
  {
   "cell_type": "code",
   "execution_count": null,
   "metadata": {},
   "outputs": [],
   "source": []
  },
  {
   "cell_type": "code",
   "execution_count": null,
   "metadata": {},
   "outputs": [],
   "source": []
  },
  {
   "cell_type": "code",
   "execution_count": null,
   "metadata": {},
   "outputs": [],
   "source": []
  },
  {
   "cell_type": "code",
   "execution_count": null,
   "metadata": {},
   "outputs": [],
   "source": []
  },
  {
   "cell_type": "code",
   "execution_count": null,
   "metadata": {},
   "outputs": [],
   "source": []
  }
 ],
 "metadata": {
  "kernelspec": {
   "display_name": "Python 3",
   "language": "python",
   "name": "python3"
  },
  "language_info": {
   "codemirror_mode": {
    "name": "ipython",
    "version": 3
   },
   "file_extension": ".py",
   "mimetype": "text/x-python",
   "name": "python",
   "nbconvert_exporter": "python",
   "pygments_lexer": "ipython3",
   "version": "3.12.0"
  }
 },
 "nbformat": 4,
 "nbformat_minor": 2
}
