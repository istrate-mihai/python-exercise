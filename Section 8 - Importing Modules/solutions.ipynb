{
 "cells": [
  {
   "cell_type": "code",
   "execution_count": 3,
   "metadata": {},
   "outputs": [
    {
     "name": "stdout",
     "output_type": "stream",
     "text": [
      "5.0\n",
      "0.8939966636005579\n"
     ]
    }
   ],
   "source": [
    "### Assignment 1: Importing and Using Modules\n",
    "\n",
    "# Import the `math` module and use it to calculate the square root of 25 and the sine of 90 degrees.\n",
    "\n",
    "import math\n",
    "print(math.sqrt(25))\n",
    "print(math.sin(90))"
   ]
  },
  {
   "cell_type": "code",
   "execution_count": 4,
   "metadata": {},
   "outputs": [
    {
     "name": "stdout",
     "output_type": "stream",
     "text": [
      "2025-02-16 05:53:49.944992\n"
     ]
    }
   ],
   "source": [
    "### Assignment 2: Aliasing Modules\n",
    "\n",
    "# Import the `datetime` module with an alias and use it to print the current date and time.\n",
    "import datetime as time_module\n",
    "print(time_module.datetime.now())"
   ]
  },
  {
   "cell_type": "code",
   "execution_count": 5,
   "metadata": {},
   "outputs": [
    {
     "name": "stdout",
     "output_type": "stream",
     "text": [
      "39\n"
     ]
    }
   ],
   "source": [
    "### Assignment 3: Importing Specific Functions\n",
    "\n",
    "# Import the `randint` function from the `random` module and use it to generate a random integer between 1 and 100.\n",
    "from random import randint \n",
    "print(randint(1, 100))"
   ]
  },
  {
   "cell_type": "code",
   "execution_count": 6,
   "metadata": {},
   "outputs": [
    {
     "name": "stdout",
     "output_type": "stream",
     "text": [
      "4.0\n",
      "2.8284271247461903\n"
     ]
    }
   ],
   "source": [
    "### Assignment 4: Importing Multiple Functions\n",
    "\n",
    "# Import the `sqrt` and `pow` functions from the `math` module and use them to calculate the square root of 16 and 2 raised to the power of 3.\n",
    "from math import sqrt, pow\n",
    "print(sqrt(16))\n",
    "print(sqrt(2 ** 3))"
   ]
  },
  {
   "cell_type": "code",
   "execution_count": 7,
   "metadata": {},
   "outputs": [
    {
     "ename": "ImportError",
     "evalue": "You must install the module my_awesome_module",
     "output_type": "error",
     "traceback": [
      "\u001b[1;31m---------------------------------------------------------------------------\u001b[0m",
      "\u001b[1;31mModuleNotFoundError\u001b[0m                       Traceback (most recent call last)",
      "Cell \u001b[1;32mIn[7], line 5\u001b[0m\n\u001b[0;32m      4\u001b[0m \u001b[38;5;28;01mtry\u001b[39;00m:\n\u001b[1;32m----> 5\u001b[0m   \u001b[38;5;28;01mimport\u001b[39;00m\u001b[38;5;250m \u001b[39m\u001b[38;5;21;01mmy_awesome_module\u001b[39;00m\n\u001b[0;32m      6\u001b[0m \u001b[38;5;28;01mexcept\u001b[39;00m \u001b[38;5;167;01mImportError\u001b[39;00m:\n",
      "\u001b[1;31mModuleNotFoundError\u001b[0m: No module named 'my_awesome_module'",
      "\nDuring handling of the above exception, another exception occurred:\n",
      "\u001b[1;31mImportError\u001b[0m                               Traceback (most recent call last)",
      "Cell \u001b[1;32mIn[7], line 7\u001b[0m\n\u001b[0;32m      5\u001b[0m   \u001b[38;5;28;01mimport\u001b[39;00m\u001b[38;5;250m \u001b[39m\u001b[38;5;21;01mmy_awesome_module\u001b[39;00m\n\u001b[0;32m      6\u001b[0m \u001b[38;5;28;01mexcept\u001b[39;00m \u001b[38;5;167;01mImportError\u001b[39;00m:\n\u001b[1;32m----> 7\u001b[0m   \u001b[38;5;28;01mraise\u001b[39;00m \u001b[38;5;167;01mImportError\u001b[39;00m(\u001b[38;5;124m\"\u001b[39m\u001b[38;5;124mYou must install the module my_awesome_module\u001b[39m\u001b[38;5;124m\"\u001b[39m)\n",
      "\u001b[1;31mImportError\u001b[0m: You must install the module my_awesome_module"
     ]
    }
   ],
   "source": [
    "### Assignment 5: Handling Import Errors\n",
    "\n",
    "# Write code that attempts to import a non-existent module and gracefully handles the import error by printing an error message.\n",
    "try:\n",
    "  import my_awesome_module\n",
    "except ImportError:\n",
    "  raise ImportError(\"You must install the module my_awesome_module\")"
   ]
  },
  {
   "cell_type": "code",
   "execution_count": 11,
   "metadata": {},
   "outputs": [
    {
     "name": "stdout",
     "output_type": "stream",
     "text": [
      "new_directory\n",
      "packagessolution - section 8\n",
      "solutions.ipynb\n"
     ]
    }
   ],
   "source": [
    "### Assignment 6: Working with the `os` Module\n",
    "\n",
    "# Use the `os` module to create a new directory, list the contents of the current directory, and remove the newly created directory.\n",
    "import os\n",
    "os.mkdir('new_directory')\n",
    "listdir = os.listdir(os.getcwd())\n",
    "\n",
    "for dir in listdir:\n",
    "  print(dir)\n",
    "os.rmdir('new_directory')"
   ]
  },
  {
   "cell_type": "code",
   "execution_count": 14,
   "metadata": {},
   "outputs": [
    {
     "name": "stdout",
     "output_type": "stream",
     "text": [
      "3.12.0 | packaged by Anaconda, Inc. | (main, Oct  2 2023, 17:20:38) [MSC v.1916 64 bit (AMD64)]\n",
      "c:\\Users\\imiha\\OneDrive\\Desktop\\Udemy\\ML\\Master the theory, practice,and math behind Data Science,Machine Learning,Deep Learning,NLP with end to end projects\\Solutions\\venv\\Lib\\site-packages\\ipykernel_launcher.py\n",
      "--f=c:\\Users\\imiha\\AppData\\Roaming\\jupyter\\runtime\\kernel-v370df166ae19ed1f6b12b4a6e67d4e24af6356779.json\n"
     ]
    }
   ],
   "source": [
    "### Assignment 7: Working with the `sys` Module\n",
    "\n",
    "# Use the `sys` module to print the Python version currently in use and the command-line arguments passed to the script.\n",
    "import sys\n",
    "print(sys.version)\n",
    "args = sys.argv\n",
    "\n",
    "for arg in args:\n",
    "  print(arg)"
   ]
  },
  {
   "cell_type": "code",
   "execution_count": 16,
   "metadata": {},
   "outputs": [
    {
     "name": "stdout",
     "output_type": "stream",
     "text": [
      "25\n",
      "120\n"
     ]
    }
   ],
   "source": [
    "### Assignment 8: Working with the `math` Module\n",
    "\n",
    "# Use the `math` module to calculate the greatest common divisor (GCD) of two numbers and the factorial of a number.\n",
    "print(math.gcd(25, 100))\n",
    "print(math.factorial(5))"
   ]
  },
  {
   "cell_type": "code",
   "execution_count": 19,
   "metadata": {},
   "outputs": [
    {
     "name": "stdout",
     "output_type": "stream",
     "text": [
      "2025-02-16\n",
      "2025-05-27\n",
      "6\n"
     ]
    }
   ],
   "source": [
    "### Assignment 9: Working with the `datetime` Module\n",
    "\n",
    "# Use the `datetime` module to print the current date, calculate the date 100 days from today,\n",
    "# and determine the day of the week for a given date.\n",
    "from datetime import datetime, timedelta, date\n",
    "current_date = date.today()\n",
    "future_date  = current_date + timedelta(100)\n",
    "some_date    = datetime(2025, 5, 4)\n",
    "print(current_date)\n",
    "print(future_date)\n",
    "print(some_date.weekday())"
   ]
  },
  {
   "cell_type": "code",
   "execution_count": 23,
   "metadata": {},
   "outputs": [
    {
     "name": "stdout",
     "output_type": "stream",
     "text": [
      "[16, 12, 27, 1, 30]\n"
     ]
    }
   ],
   "source": [
    "### Assignment 10: Working with the `random` Module\n",
    "\n",
    "# Use the `random` module to generate a list of 5 random numbers between 1 and 50 and shuffle the elements of a list.\n",
    "import random\n",
    "random_list = random.sample(range(1, 50), 5)\n",
    "random.shuffle(random_list)\n",
    "print(random_list)"
   ]
  },
  {
   "cell_type": "code",
   "execution_count": 24,
   "metadata": {},
   "outputs": [
    {
     "name": "stdout",
     "output_type": "stream",
     "text": [
      "30\n",
      "200\n"
     ]
    }
   ],
   "source": [
    "### Assignment 11: Creating a Simple Package\n",
    "\n",
    "# Create a package named `mypackage` with two modules: `module1` and `module2`. `module1` should contain a function that\n",
    "# adds two numbers, and `module2` should contain a function that multiplies two numbers. Write code to use these functions.\n",
    "from mypackage import module1, module2\n",
    "print(module1.add_numbers(10, 20))\n",
    "print(module2.multiply_numbers(10, 20))"
   ]
  },
  {
   "cell_type": "code",
   "execution_count": 9,
   "metadata": {},
   "outputs": [],
   "source": [
    "### Assignment 12: Using `__init__.py`\n",
    "\n",
    "# Modify the `mypackage` package to include an `__init__.py` file that imports the functions from `module1` and `module2`.\n",
    "# Write code to use these functions.\n",
    "# from mypackage import add_numbers"
   ]
  },
  {
   "cell_type": "code",
   "execution_count": 10,
   "metadata": {},
   "outputs": [],
   "source": [
    "### Assignment 14: Relative Imports\n",
    "\n",
    "# Create a subpackage named `subpackage` within `mypackage` and move `module2` into `subpackage`. Modify the import statements\n",
    "# in `__init__.py`to use relative imports.\n",
    "# Write code to use the functions from both modules.\n",
    "# from mypackage import multiply_numbers\n",
    "# print(multiply_numbers(10, 20))"
   ]
  },
  {
   "cell_type": "code",
   "execution_count": 13,
   "metadata": {},
   "outputs": [
    {
     "ename": "ImportError",
     "evalue": "No such method",
     "output_type": "error",
     "traceback": [
      "\u001b[1;31m---------------------------------------------------------------------------\u001b[0m",
      "\u001b[1;31mImportError\u001b[0m                               Traceback (most recent call last)",
      "Cell \u001b[1;32mIn[13], line 7\u001b[0m\n\u001b[0;32m      6\u001b[0m \u001b[38;5;28;01mtry\u001b[39;00m:\n\u001b[1;32m----> 7\u001b[0m   \u001b[38;5;28;01mfrom\u001b[39;00m\u001b[38;5;250m \u001b[39m\u001b[38;5;21;01mmypackage\u001b[39;00m\u001b[38;5;21;01m.\u001b[39;00m\u001b[38;5;21;01mmodule1\u001b[39;00m\u001b[38;5;250m \u001b[39m\u001b[38;5;28;01mimport\u001b[39;00m add_numbers_non_exiting\n\u001b[0;32m      8\u001b[0m \u001b[38;5;28;01mexcept\u001b[39;00m \u001b[38;5;167;01mImportError\u001b[39;00m:\n",
      "\u001b[1;31mImportError\u001b[0m: cannot import name 'add_numbers_non_exiting' from 'mypackage.module1' (c:\\Users\\imiha\\OneDrive\\Desktop\\Udemy\\ML\\Master the theory, practice,and math behind Data Science,Machine Learning,Deep Learning,NLP with end to end projects\\Solutions\\Section 8 - Importing Modules\\mypackage\\module1.py)",
      "\nDuring handling of the above exception, another exception occurred:\n",
      "\u001b[1;31mImportError\u001b[0m                               Traceback (most recent call last)",
      "Cell \u001b[1;32mIn[13], line 9\u001b[0m\n\u001b[0;32m      7\u001b[0m   \u001b[38;5;28;01mfrom\u001b[39;00m\u001b[38;5;250m \u001b[39m\u001b[38;5;21;01mmypackage\u001b[39;00m\u001b[38;5;21;01m.\u001b[39;00m\u001b[38;5;21;01mmodule1\u001b[39;00m\u001b[38;5;250m \u001b[39m\u001b[38;5;28;01mimport\u001b[39;00m add_numbers_non_exiting\n\u001b[0;32m      8\u001b[0m \u001b[38;5;28;01mexcept\u001b[39;00m \u001b[38;5;167;01mImportError\u001b[39;00m:\n\u001b[1;32m----> 9\u001b[0m   \u001b[38;5;28;01mraise\u001b[39;00m \u001b[38;5;167;01mImportError\u001b[39;00m(\u001b[38;5;124m'\u001b[39m\u001b[38;5;124mNo such method\u001b[39m\u001b[38;5;124m'\u001b[39m)\n",
      "\u001b[1;31mImportError\u001b[0m: No such method"
     ]
    }
   ],
   "source": [
    "### Assignment 15: Handling Package Import Errors\n",
    "\n",
    "# Write code that attempts to import a non-existent function from `mypackage` and\n",
    "# gracefully handles the import error by printing an error message.\n",
    "\n",
    "try:\n",
    "  from mypackage.module1 import add_numbers_non_exiting\n",
    "except ImportError:\n",
    "  raise ImportError('No such method')"
   ]
  },
  {
   "cell_type": "code",
   "execution_count": null,
   "metadata": {},
   "outputs": [],
   "source": []
  },
  {
   "cell_type": "code",
   "execution_count": null,
   "metadata": {},
   "outputs": [],
   "source": []
  },
  {
   "cell_type": "code",
   "execution_count": null,
   "metadata": {},
   "outputs": [],
   "source": []
  },
  {
   "cell_type": "code",
   "execution_count": null,
   "metadata": {},
   "outputs": [],
   "source": []
  },
  {
   "cell_type": "code",
   "execution_count": null,
   "metadata": {},
   "outputs": [],
   "source": []
  }
 ],
 "metadata": {
  "kernelspec": {
   "display_name": "Python 3",
   "language": "python",
   "name": "python3"
  },
  "language_info": {
   "codemirror_mode": {
    "name": "ipython",
    "version": 3
   },
   "file_extension": ".py",
   "mimetype": "text/x-python",
   "name": "python",
   "nbconvert_exporter": "python",
   "pygments_lexer": "ipython3",
   "version": "3.12.0"
  }
 },
 "nbformat": 4,
 "nbformat_minor": 2
}
