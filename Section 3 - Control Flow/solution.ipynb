{
 "cells": [
  {
   "cell_type": "code",
   "execution_count": null,
   "metadata": {},
   "outputs": [
    {
     "name": "stdout",
     "output_type": "stream",
     "text": [
      "Number is positive\n"
     ]
    }
   ],
   "source": [
    "### Assignment 1: Simple if Statement\n",
    "\n",
    "# Write a program that asks the user to input a number and prints whether the number is positive.\n",
    "num1 = int(input(\"Enter a number\"))\n",
    "\n",
    "if num1 > 0:\n",
    "  print(\"Number is positive\")\n"
   ]
  },
  {
   "cell_type": "code",
   "execution_count": null,
   "metadata": {},
   "outputs": [
    {
     "name": "stdout",
     "output_type": "stream",
     "text": [
      "Number is negative\n"
     ]
    }
   ],
   "source": [
    "### Assignment 2: if-else Statement\n",
    "\n",
    "# Write a program that asks the user to input a number and prints whether the number is positive or negative.\n",
    "\n",
    "num1 = int(input(\"Enter a number\"))\n",
    "\n",
    "if num1 > 0:\n",
    "  print(\"Number is positive\")\n",
    "elif num1 < 0:\n",
    "  print(\"Number is negative\")"
   ]
  },
  {
   "cell_type": "code",
   "execution_count": null,
   "metadata": {},
   "outputs": [
    {
     "name": "stdout",
     "output_type": "stream",
     "text": [
      "Zer0\n"
     ]
    }
   ],
   "source": [
    "### Assignment 3: if-elif-else Statement\n",
    "\n",
    "# Write a program that asks the user to input a number and prints whether the number is positive, negative, or zero.\n",
    "\n",
    "num1 = float(input(\"Enter a number\"))\n",
    "\n",
    "if num1 > 0:\n",
    "  print(\"Number is positive\")\n",
    "elif num1 < 0:\n",
    "  print(\"Number is negative\")\n",
    "elif num1 == 0:\n",
    "  print(\"Zer0\")"
   ]
  },
  {
   "cell_type": "code",
   "execution_count": null,
   "metadata": {},
   "outputs": [
    {
     "name": "stdout",
     "output_type": "stream",
     "text": [
      "Positive and even\n"
     ]
    }
   ],
   "source": [
    "### Assignment 4: Nested if Statement\n",
    "\n",
    "# Write a program that asks the user to input a number and prints whether the number is positive and even, positive and odd, or negative.\n",
    "\n",
    "num1 = int(input(\"Enter number\"))\n",
    "\n",
    "if num1 > 0:\n",
    "  if num1 % 2 == 0:\n",
    "    print(\"Positive and even\")\n",
    "  else:\n",
    "    print(\"Positive and odd\")\n",
    "else:\n",
    "  print(\"Number is negative\")\n"
   ]
  },
  {
   "cell_type": "code",
   "execution_count": null,
   "metadata": {},
   "outputs": [
    {
     "name": "stdout",
     "output_type": "stream",
     "text": [
      "1\n",
      "2\n",
      "3\n",
      "4\n",
      "5\n",
      "6\n",
      "7\n",
      "8\n",
      "9\n",
      "10\n"
     ]
    }
   ],
   "source": [
    "### Assignment 5: for Loop\n",
    "\n",
    "# Write a program that prints all the numbers from 1 to 10 using a for loop.\n",
    "\n",
    "for i in range(1, 11):\n",
    "  print(i)"
   ]
  },
  {
   "cell_type": "code",
   "execution_count": null,
   "metadata": {},
   "outputs": [
    {
     "name": "stdout",
     "output_type": "stream",
     "text": [
      "1\n",
      "2\n",
      "3\n",
      "4\n",
      "5\n",
      "6\n",
      "7\n",
      "8\n",
      "9\n",
      "10\n"
     ]
    }
   ],
   "source": [
    "### Assignment 6: while Loop\n",
    "\n",
    "# Write a program that prints all the numbers from 1 to 10 using a while loop.\n",
    "\n",
    "count = 1\n",
    "\n",
    "while count < 11:\n",
    "  print(count)\n",
    "  count += 1"
   ]
  },
  {
   "cell_type": "code",
   "execution_count": null,
   "metadata": {},
   "outputs": [
    {
     "name": "stdout",
     "output_type": "stream",
     "text": [
      "*****\n",
      "\n",
      "*****\n",
      "\n",
      "*****\n",
      "\n",
      "*****\n",
      "\n",
      "*****\n",
      "\n"
     ]
    }
   ],
   "source": [
    "### Assignment 7: Nested Loops\n",
    "\n",
    "# Write a program that prints a 5x5 grid of asterisks (*) using nested loops.\n",
    "\n",
    "for i in range(5):\n",
    "  for j in range(5):\n",
    "    print(\"*\", end = \"\")\n",
    "    \n",
    "  print(\"\\n\")"
   ]
  },
  {
   "cell_type": "code",
   "execution_count": 23,
   "metadata": {},
   "outputs": [
    {
     "name": "stdout",
     "output_type": "stream",
     "text": [
      "1074\n"
     ]
    }
   ],
   "source": [
    "### Assignment 8: break Statement\n",
    "\n",
    "# Write a program that asks the user to input numbers until they input 0. The program should print the sum of all the input numbers.\n",
    "n = int(input(\"Enter number\"))\n",
    "s = 0\n",
    "\n",
    "while n != 0:\n",
    "  s += n\n",
    "  n = int(input(\"Enter number\"))\n",
    "\n",
    "print(s)"
   ]
  },
  {
   "cell_type": "code",
   "execution_count": 24,
   "metadata": {},
   "outputs": [
    {
     "name": "stdout",
     "output_type": "stream",
     "text": [
      "1\n",
      "2\n",
      "3\n",
      "4\n",
      "6\n",
      "7\n",
      "8\n",
      "9\n"
     ]
    }
   ],
   "source": [
    "### Assignment 9: continue Statement\n",
    "\n",
    "# Write a program that prints all the numbers from 1 to 10 except 5 using a for loop and continue statement.\n",
    "\n",
    "for i in range(1, 10):\n",
    "  if i == 5:\n",
    "    continue\n",
    "  print(i)"
   ]
  },
  {
   "cell_type": "code",
   "execution_count": 25,
   "metadata": {},
   "outputs": [],
   "source": [
    "### Assignment 10: pass Statement\n",
    "\n",
    "# Write a program that defines an empty function using the pass statement.\n",
    "def emptyFunction():\n",
    "  pass\n"
   ]
  },
  {
   "cell_type": "code",
   "execution_count": 26,
   "metadata": {},
   "outputs": [
    {
     "name": "stdout",
     "output_type": "stream",
     "text": [
      "0\n",
      "2\n",
      "4\n",
      "6\n",
      "8\n",
      "10\n"
     ]
    }
   ],
   "source": [
    "### Assignment 11: Combining Loops and Conditionals\n",
    "\n",
    "# Write a program that asks the user to input a number and prints all the even numbers from 1 to that number using a for loop.\n",
    "\n",
    "n = int(input(\"Enter number\"))\n",
    "\n",
    "for i in range(n + 1):\n",
    "  if i % 2 == 0:\n",
    "    print(i)"
   ]
  },
  {
   "cell_type": "code",
   "execution_count": 35,
   "metadata": {},
   "outputs": [
    {
     "name": "stdout",
     "output_type": "stream",
     "text": [
      "24\n"
     ]
    }
   ],
   "source": [
    "### Assignment 12: Factorial Calculation\n",
    "\n",
    "# Write a program that calculates the factorial of a number input by the user using a while loop.\n",
    "\n",
    "num1 = int(input(\"Enter number\"))\n",
    "n = 1\n",
    "factorial = 1\n",
    "\n",
    "while n <= num1:\n",
    "  factorial *= n\n",
    "  n += 1\n",
    "\n",
    "print(factorial)"
   ]
  },
  {
   "cell_type": "code",
   "execution_count": 37,
   "metadata": {},
   "outputs": [
    {
     "name": "stdout",
     "output_type": "stream",
     "text": [
      "6\n"
     ]
    }
   ],
   "source": [
    "### Assignment 13: Sum of Digits\n",
    "\n",
    "# Write a program that calculates the sum of the digits of a number input by the user using a while loop.\n",
    "\n",
    "num1 = int(input(\"Enter number\"))\n",
    "s = 0\n",
    "\n",
    "while num1 != 0:\n",
    "  s += num1 % 10\n",
    "  num1 = num1 // 10\n",
    "\n",
    "print(s)"
   ]
  },
  {
   "cell_type": "code",
   "execution_count": 38,
   "metadata": {},
   "outputs": [
    {
     "name": "stdout",
     "output_type": "stream",
     "text": [
      "2\n",
      "3\n",
      "5\n",
      "7\n",
      "11\n",
      "13\n",
      "17\n",
      "19\n",
      "23\n",
      "29\n",
      "31\n",
      "37\n",
      "41\n",
      "43\n",
      "47\n",
      "53\n",
      "59\n",
      "61\n",
      "67\n",
      "71\n",
      "73\n",
      "79\n",
      "83\n",
      "89\n",
      "97\n"
     ]
    }
   ],
   "source": [
    "### Assignment 14: Prime Number Check\n",
    "\n",
    "# Write a program that checks if a number input by the user is a prime number using a for loop.\n",
    "\n",
    "num1 = int(input(\"Enter a number\"))\n",
    "\n",
    "for i in range(num1 + 1):\n",
    "  if i > 1:\n",
    "    for j in range (2, i):\n",
    "      if  i % j == 0:\n",
    "        break\n",
    "    else:\n",
    "      print(i)"
   ]
  },
  {
   "cell_type": "code",
   "execution_count": 41,
   "metadata": {},
   "outputs": [
    {
     "name": "stdout",
     "output_type": "stream",
     "text": [
      "0\n",
      "1\n",
      "1\n",
      "2\n",
      "3\n",
      "5\n",
      "8\n",
      "13\n",
      "21\n",
      "34\n",
      "55\n",
      "89\n",
      "144\n"
     ]
    }
   ],
   "source": [
    "### Assignment 15: Fibonacci Sequence\n",
    "\n",
    "# Write a program that prints the first n Fibonacci numbers, where n is input by the user.\n",
    "\n",
    "n = int(input(\"Enter number\"))\n",
    "\n",
    "num1 = 0\n",
    "num2 = 1\n",
    "\n",
    "if n == 1:\n",
    "  print(num1)\n",
    "elif n == 2:\n",
    "  print(num1)\n",
    "  print(num2)\n",
    "else:\n",
    "  i = 2\n",
    "  s = 0\n",
    "\n",
    "  print(num1)\n",
    "  print(num2)\n",
    "\n",
    "  while i < n:\n",
    "    s = num1 + num2\n",
    "    num1 = num2\n",
    "    num2 = s\n",
    "    print(s)\n",
    "    i += 1\n",
    "\n"
   ]
  },
  {
   "cell_type": "code",
   "execution_count": null,
   "metadata": {},
   "outputs": [],
   "source": []
  }
 ],
 "metadata": {
  "kernelspec": {
   "display_name": "Python 3",
   "language": "python",
   "name": "python3"
  },
  "language_info": {
   "codemirror_mode": {
    "name": "ipython",
    "version": 3
   },
   "file_extension": ".py",
   "mimetype": "text/x-python",
   "name": "python",
   "nbconvert_exporter": "python",
   "pygments_lexer": "ipython3",
   "version": "3.12.0"
  }
 },
 "nbformat": 4,
 "nbformat_minor": 2
}
