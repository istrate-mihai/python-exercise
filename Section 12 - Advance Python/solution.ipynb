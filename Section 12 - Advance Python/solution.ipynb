{
 "cells": [
  {
   "cell_type": "code",
   "execution_count": null,
   "metadata": {},
   "outputs": [
    {
     "name": "stdout",
     "output_type": "stream",
     "text": [
      "9\n",
      "8\n",
      "7\n",
      "6\n",
      "5\n",
      "4\n",
      "3\n",
      "2\n",
      "1\n",
      "0\n"
     ]
    }
   ],
   "source": [
    "### Assignment 1: Custom Iterator\n",
    "\n",
    "# Create a custom iterator class named `Countdown` that takes a number and counts down to zero. Implement the `__iter__` and `__next__` methods. Test the iterator by using it in a for loop.\n",
    "\n",
    "# Approach 1\n",
    "\n",
    "# class Countdown:\n",
    "#     def __init__(self, n):\n",
    "#         self.number_list = [i for i in range(n+1)]\n",
    "\n",
    "#     def get_number_list(self):\n",
    "#         self.number_list.sort(reverse  = True)\n",
    "#         return self.number_list\n",
    "\n",
    "# countdown          = Countdown(10)\n",
    "# number_list        = countdown.get_number_list()\n",
    "# number_list_length = len(number_list)\n",
    "# countdown_iterator = iter(number_list)\n",
    "\n",
    "# for i in range(number_list_length):\n",
    "#     print(next(countdown_iterator))\n",
    "\n",
    "class Countdown:\n",
    "\n",
    "    def __init__(self, start):\n",
    "        self.current = start\n",
    "\n",
    "    def __iter__(self):\n",
    "        return self\n",
    "\n",
    "    def __next__(self):\n",
    "        if self.current <= 0:\n",
    "            raise StopIteration\n",
    "        else:\n",
    "            self.current = self.current - 1\n",
    "            return self.current\n",
    "\n",
    "for i in Countdown(10):\n",
    "    print(i)"
   ]
  },
  {
   "cell_type": "code",
   "execution_count": null,
   "metadata": {},
   "outputs": [
    {
     "name": "stdout",
     "output_type": "stream",
     "text": [
      "0\n",
      "1\n",
      "2\n",
      "3\n",
      "4\n"
     ]
    }
   ],
   "source": [
    "### Assignment 2: Custom Iterable Class\n",
    "\n",
    "# Create a class named `MyRange` that mimics the behavior of the built-in `range` function. Implement the `__iter__` and `__next__` methods. Test the class by using it in a for loop.\n",
    "\n",
    "class MyRange:\n",
    "\n",
    "    def __init__(self, end):\n",
    "        self.end     = end\n",
    "        self.current = -1\n",
    "\n",
    "    def __iter__(self):\n",
    "        return self\n",
    "\n",
    "    def __next__(self):\n",
    "        if self.current < self.end - 1:\n",
    "            self.current = self.current + 1\n",
    "            return self.current\n",
    "        else:\n",
    "            raise StopIteration\n",
    "\n",
    "for i in MyRange(5):\n",
    "    print(i)"
   ]
  },
  {
   "cell_type": "code",
   "execution_count": null,
   "metadata": {},
   "outputs": [],
   "source": [
    "### Assignment 3: Generator Function\n",
    "\n",
    "# Write a generator function named `fibonacci` that yields the Fibonacci sequence. Test the generator by iterating over it and printing the first 10 Fibonacci numbers.\n",
    "\n",
    "# import time\n",
    "\n",
    "# def base_fibonnacci(term):\n",
    "#     if term == 0:\n",
    "#         return 0\n",
    "\n",
    "#     if term == 1:\n",
    "#         return 1\n",
    "\n",
    "#     return base_fibonnacci(term - 1) + base_fibonnacci(term - 2)\n",
    "\n",
    "# def fibonnacci(term):\n",
    "#     for i in range(term):\n",
    "#         yield base_fibonnacci(i)\n",
    "\n",
    "# start_time = time.time()\n",
    "# fb_gen = fibonnacci(50)\n",
    "\n",
    "\n",
    "# for i in fb_gen:\n",
    "#     print(i)\n",
    "# end_time = time.time()\n",
    "# print(end_time - start_time)\n"
   ]
  },
  {
   "cell_type": "code",
   "execution_count": 32,
   "metadata": {},
   "outputs": [
    {
     "name": "stdout",
     "output_type": "stream",
     "text": [
      "1\n",
      "4\n",
      "27\n",
      "256\n",
      "3125\n",
      "46656\n",
      "823543\n",
      "16777216\n",
      "387420489\n"
     ]
    }
   ],
   "source": [
    "### Assignment 4: Generator Expression\n",
    "\n",
    "# Create a generator expression that generates the squares of numbers from 1 to 10. Iterate over the generator and print each value.\n",
    "\n",
    "square_list = (x ** x for x in range(1, 10))\n",
    "\n",
    "for square in square_list:\n",
    "    print(square)"
   ]
  },
  {
   "cell_type": "code",
   "execution_count": 38,
   "metadata": {},
   "outputs": [
    {
     "name": "stdout",
     "output_type": "stream",
     "text": [
      "1\n",
      "4\n",
      "256\n",
      "46656\n",
      "16777216\n",
      "10000000000\n",
      "8916100448256\n",
      "11112006825558016\n",
      "18446744073709551616\n",
      "39346408075296537575424\n"
     ]
    }
   ],
   "source": [
    "### Assignment 5: Chaining Generators\n",
    "\n",
    "# Write two generator functions: `even_numbers` that yields even numbers up to a limit, and `squares` that yields the square of each number from another generator.\n",
    "# Chain these generators to produce the squares of even numbers up to 20.\n",
    "\n",
    "def even_numbers(limit):\n",
    "    for i in range(0, limit, 2):\n",
    "        yield i\n",
    "\n",
    "def square_numbers(numbers):\n",
    "    for i in numbers:\n",
    "        yield i ** i\n",
    "\n",
    "en_g = even_numbers(20)\n",
    "sn_g = square_numbers(en_g)\n",
    "\n",
    "for i in sn_g:\n",
    "    print(i)"
   ]
  },
  {
   "cell_type": "code",
   "execution_count": null,
   "metadata": {},
   "outputs": [
    {
     "name": "stdout",
     "output_type": "stream",
     "text": [
      "0.0\n",
      "0.00099945068359375\n",
      "0.00099945068359375\n",
      "0.00099945068359375\n",
      "0.00099945068359375\n",
      "0.00099945068359375\n",
      "0.00099945068359375\n",
      "0.00099945068359375\n",
      "0.00099945068359375\n",
      "0.00099945068359375\n",
      "0.00099945068359375\n",
      "0.00099945068359375\n",
      "0.00099945068359375\n",
      "0.00099945068359375\n",
      "0.00099945068359375\n",
      "0.00099945068359375\n",
      "0.00099945068359375\n",
      "0.00099945068359375\n",
      "0.00099945068359375\n",
      "0.00099945068359375\n",
      "0.00099945068359375\n",
      "0.00099945068359375\n",
      "0.00099945068359375\n",
      "0.00099945068359375\n",
      "0.00099945068359375\n",
      "0.00099945068359375\n",
      "0.00099945068359375\n",
      "0.00099945068359375\n",
      "0.00099945068359375\n",
      "0.00099945068359375\n",
      "0.00099945068359375\n",
      "0.00099945068359375\n",
      "0.00099945068359375\n",
      "0.00099945068359375\n",
      "0.00099945068359375\n",
      "0.00099945068359375\n",
      "0.00099945068359375\n",
      "0.00099945068359375\n",
      "0.00099945068359375\n",
      "0.00099945068359375\n",
      "0.00099945068359375\n",
      "0.00099945068359375\n",
      "0.00099945068359375\n",
      "0.00099945068359375\n",
      "0.00099945068359375\n",
      "0.00099945068359375\n",
      "0.00099945068359375\n",
      "0.00099945068359375\n",
      "0.00099945068359375\n",
      "0.00099945068359375\n",
      "0.00099945068359375\n",
      "30414093201713378043612608166064768844377641568960512000000000000\n",
      "Fri Feb 21 16:08:04 2025\n"
     ]
    }
   ],
   "source": [
    "\n",
    "### Assignment 6: Simple Decorator\n",
    "\n",
    "# Write a decorator named `time_it` that measures the execution time of a function. Apply this decorator to a function that calculates the factorial of a number.\n",
    "\n",
    "from datetime import datetime\n",
    "import time\n",
    "\n",
    "def time_it(func):\n",
    "    def wrapper(*args, **kwargs):\n",
    "        start = time.time()\n",
    "        result = func(*args, **kwargs)\n",
    "        end = time.time()\n",
    "        time_delta = end - start\n",
    "        print(time_delta)\n",
    "        return result\n",
    "    return wrapper\n",
    "\n",
    "@time_it\n",
    "def calculate_factorial(n):\n",
    "    if n == 0:\n",
    "        return 1\n",
    "    return n * calculate_factorial(n - 1)\n",
    "\n",
    "print(calculate_factorial(50))\n",
    "\n",
    "# ts    = time.time()\n",
    "# tg    = time.gmtime(ts)\n",
    "# t_str = time.asctime(tg)\n",
    "# print(t_str)"
   ]
  },
  {
   "cell_type": "code",
   "execution_count": 23,
   "metadata": {},
   "outputs": [
    {
     "name": "stdout",
     "output_type": "stream",
     "text": [
      "Hello World\n",
      "Hello World\n",
      "Hello World\n"
     ]
    }
   ],
   "source": [
    "### Assignment 7: Decorator with Arguments\n",
    "\n",
    "# Write a decorator named `repeat` that takes an argument `n` and repeats the execution of the decorated function `n` times. Apply\n",
    "# this decorator to a function that prints a message.\n",
    "\n",
    "def repeat(n):\n",
    "    def decorator(func):\n",
    "        def wrapper(*args, **kwargs):\n",
    "            for _ in range(n):\n",
    "                func(*args, **kwargs)\n",
    "        return wrapper\n",
    "    return decorator\n",
    "\n",
    "repeat_decorator = repeat(3)\n",
    "\n",
    "@repeat_decorator\n",
    "def print_msg(msg):\n",
    "    print(msg)\n",
    "\n",
    "print_msg('Hello World')"
   ]
  },
  {
   "cell_type": "code",
   "execution_count": 2,
   "metadata": {},
   "outputs": [
    {
     "name": "stdout",
     "output_type": "stream",
     "text": [
      "HELLO!\n"
     ]
    }
   ],
   "source": [
    "### Assignment 8: Nested Decorators\n",
    "\n",
    "# Write two decorators: `uppercase` that converts the result of a function to uppercase, and `exclaim` that adds\n",
    "# an exclamation mark to the result of a function. Apply both decorators to a function that returns a greeting message.\n",
    "\n",
    "def uppercase(func):\n",
    "    def wrapper(*args, **kwargs):\n",
    "        result = func(*args, **kwargs)\n",
    "        return result.upper()\n",
    "    return wrapper\n",
    "\n",
    "def exclaim(func):\n",
    "    def wrapper(*args, **kwargs):\n",
    "        result = func(*args, **kwargs)\n",
    "        return result + '!'\n",
    "    return wrapper\n",
    "\n",
    "@exclaim\n",
    "@uppercase\n",
    "def greet(msg):\n",
    "    return msg\n",
    "\n",
    "print(greet('hello'))"
   ]
  },
  {
   "cell_type": "code",
   "execution_count": 7,
   "metadata": {},
   "outputs": [
    {
     "name": "stdout",
     "output_type": "stream",
     "text": [
      "Database connected\n",
      "False\n"
     ]
    }
   ],
   "source": [
    "### Assignment 9: Class Decorator\n",
    "\n",
    "# Create a class decorator named `singleton` that ensures a class has only one instance.\n",
    "# Apply this decorator to a class named `DatabaseConnection` and test it.\n",
    "\n",
    "def singleton(cls):\n",
    "    instances = {}\n",
    "    def wrapper(*args, **kwargs):\n",
    "        if cls not in instances:\n",
    "            instances[cls] = cls(*args, **kwargs)\n",
    "            return instances[cls]\n",
    "    return wrapper\n",
    "\n",
    "@singleton\n",
    "class DatabaseConnection:\n",
    "    def __init__(self):\n",
    "        print('Database connected')\n",
    "\n",
    "db1 = DatabaseConnection()\n",
    "db2 = DatabaseConnection()\n",
    "print(db1 is db2)"
   ]
  },
  {
   "cell_type": "code",
   "execution_count": null,
   "metadata": {},
   "outputs": [
    {
     "name": "stdout",
     "output_type": "stream",
     "text": [
      "d\n",
      "c\n",
      "b\n",
      "a\n",
      "e\n"
     ]
    }
   ],
   "source": [
    "### Assignment 10: Iterator Protocol with Decorators\n",
    "\n",
    "# Create a custom iterator class named `ReverseString` that iterates over a string in reverse. Write a\n",
    "# decorator named `uppercase` that converts the string to uppercase before reversing it. Apply the decorator to the\n",
    "# `ReverseString` class.\n",
    "\n",
    "def uppercase(cls):\n",
    "    class Wrapper(cls):\n",
    "        def __init__(self, *args, **kwargs):\n",
    "            super().__init__(*args, **kwargs)\n",
    "            self.reversed_str = self.reversed_str.upper()\n",
    "\n",
    "    return Wrapper\n",
    "\n",
    "@uppercase\n",
    "class ReverseString:\n",
    "\n",
    "    def __init__(self, iter_string):\n",
    "        self.iter_string  = iter_string\n",
    "        self.current      = len(iter_string) - 1\n",
    "        self.reversed_str = ''\n",
    "\n",
    "    def __iter__(self):\n",
    "        return self\n",
    "\n",
    "    def __next__(self):\n",
    "        if self.current >= 0:\n",
    "            self.reversed_str += self.iter_string[self.current]\n",
    "            self.current = self.current - 1\n",
    "            return self.iter_string[self.current]\n",
    "        else:\n",
    "            raise StopIteration\n",
    "\n",
    "for i in ReverseString('abcde'):\n",
    "    print(i)"
   ]
  },
  {
   "cell_type": "code",
   "execution_count": 2,
   "metadata": {},
   "outputs": [
    {
     "name": "stdout",
     "output_type": "stream",
     "text": [
      "15\n",
      "16\n",
      "17\n",
      "18\n",
      "19\n",
      "20\n",
      "21\n",
      "22\n",
      "23\n",
      "24\n"
     ]
    }
   ],
   "source": [
    "### Assignment 11: Stateful Generators\n",
    "\n",
    "# Write a stateful generator function named `counter` that takes a start value and increments it by 1 each time it is called.\n",
    "# Test the generator by iterating over it and printing the first 10 values.\n",
    "\n",
    "def counter(start):\n",
    "    current = start\n",
    "    while True:\n",
    "        yield current\n",
    "        current += 1\n",
    "\n",
    "counter_gen = counter(15)\n",
    "for i in range(10):\n",
    "    print(next(counter_gen))"
   ]
  },
  {
   "cell_type": "code",
   "execution_count": 9,
   "metadata": {},
   "outputs": [
    {
     "name": "stdout",
     "output_type": "stream",
     "text": [
      "5.0\n",
      "10.0\n",
      "15.0\n",
      "25.0\n",
      "30.0\n"
     ]
    }
   ],
   "source": [
    "### Assignment 12: Generator with Exception Handling\n",
    "\n",
    "# Write a generator function named `safe_divide` that takes a list of numbers and yields the division of each number by a\n",
    "# given divisor. Implement exception handling within the generator to handle division by zero.\n",
    "\n",
    "def safe_divide(numbers, divisor):\n",
    "\n",
    "    for number in numbers:\n",
    "        try:\n",
    "            yield number / divisor\n",
    "        except ZeroDivisionError as err:\n",
    "            print(f'Cannot divide by zero {err}')\n",
    "\n",
    "safe_divider = safe_divide([10, 20, 30, 50, 60], 2)\n",
    "\n",
    "for i in safe_divide([10, 20, 30, 50, 60], 2):\n",
    "    print(next(safe_divider))"
   ]
  },
  {
   "cell_type": "code",
   "execution_count": 10,
   "metadata": {},
   "outputs": [],
   "source": [
    "### Assignment 13: Context Manager Decorator\n",
    "\n",
    "# Write a decorator named `open_file` that manages the opening and closing of a file. Apply this decorator to a function that\n",
    "# writes some text to a file.\n",
    "\n",
    "def open_file(filename, mode):\n",
    "    def decorator(func):\n",
    "        def wrapper(*args, **kwargs):\n",
    "            with open(filename, mode) as file:\n",
    "                return func(file, *args, **kwargs)\n",
    "        return wrapper\n",
    "    return decorator\n",
    "\n",
    "open_file_dec = open_file('test.txt', 'w')\n",
    "\n",
    "@open_file_dec\n",
    "def write_text(file, text):\n",
    "    file.write(text)\n",
    "\n",
    "write_text('Hello World')"
   ]
  },
  {
   "cell_type": "code",
   "execution_count": null,
   "metadata": {},
   "outputs": [
    {
     "name": "stdout",
     "output_type": "stream",
     "text": [
      "11\n",
      "12\n",
      "13\n",
      "14\n",
      "15\n",
      "16\n",
      "17\n",
      "18\n",
      "19\n",
      "20\n"
     ]
    }
   ],
   "source": [
    "### Assignment 14: Infinite Iterator\n",
    "\n",
    "# Create an infinite iterator class named `InfiniteCounter` that starts from a given number and increments by 1 indefinitely.\n",
    "# Test the iterator by printing the first 10 values generated by it.\n",
    "\n",
    "class InfiniteIterator:\n",
    "\n",
    "    def __init__(self, start):\n",
    "        self.current = start\n",
    "\n",
    "    def __iter__(self):\n",
    "        return self\n",
    "\n",
    "    def __next__(self):\n",
    "        self.current += 1\n",
    "        return self.current\n",
    "\n",
    "infiniteIterator = InfiniteIterator(10)\n",
    "\n",
    "for i in range(10):\n",
    "    print(next(infiniteIterator))"
   ]
  },
  {
   "cell_type": "code",
   "execution_count": 14,
   "metadata": {},
   "outputs": [
    {
     "name": "stdout",
     "output_type": "stream",
     "text": [
      "-2\n",
      "-4\n",
      "-6\n",
      "-8\n",
      "-10\n",
      "-12\n",
      "-14\n",
      "-16\n",
      "-18\n",
      "-20\n"
     ]
    }
   ],
   "source": [
    "### Assignment 15: Generator Pipeline\n",
    "\n",
    "# Write three generator functions: `integers` that yields integers from 1 to 10, `doubles` that yields each integer doubled,\n",
    "# and `negatives` that yields the negative of each doubled value. Chain these generators to create a pipeline that produces\n",
    "# the negative doubled values of integers from 1 to 10.\n",
    "\n",
    "def integers():\n",
    "    for i in range(1, 11):\n",
    "        yield i\n",
    "\n",
    "def doubles(integers):\n",
    "    for integer in integers:\n",
    "        yield integer * 2\n",
    "\n",
    "def negatives(doubles):\n",
    "    for double in doubles:\n",
    "        yield -1 * double\n",
    "\n",
    "int_list      = integers()\n",
    "double_list   = doubles(int_list)\n",
    "negative_list = negatives(double_list)\n",
    "\n",
    "for negative in negative_list:\n",
    "    print(negative)"
   ]
  },
  {
   "cell_type": "code",
   "execution_count": null,
   "metadata": {},
   "outputs": [],
   "source": []
  },
  {
   "cell_type": "code",
   "execution_count": null,
   "metadata": {},
   "outputs": [],
   "source": []
  },
  {
   "cell_type": "code",
   "execution_count": null,
   "metadata": {},
   "outputs": [],
   "source": []
  },
  {
   "cell_type": "code",
   "execution_count": null,
   "metadata": {},
   "outputs": [],
   "source": []
  },
  {
   "cell_type": "code",
   "execution_count": null,
   "metadata": {},
   "outputs": [],
   "source": []
  },
  {
   "cell_type": "code",
   "execution_count": null,
   "metadata": {},
   "outputs": [],
   "source": []
  },
  {
   "cell_type": "code",
   "execution_count": null,
   "metadata": {},
   "outputs": [],
   "source": []
  }
 ],
 "metadata": {
  "kernelspec": {
   "display_name": "Python 3",
   "language": "python",
   "name": "python3"
  },
  "language_info": {
   "codemirror_mode": {
    "name": "ipython",
    "version": 3
   },
   "file_extension": ".py",
   "mimetype": "text/x-python",
   "name": "python",
   "nbconvert_exporter": "python",
   "pygments_lexer": "ipython3",
   "version": "3.12.0"
  }
 },
 "nbformat": 4,
 "nbformat_minor": 2
}
