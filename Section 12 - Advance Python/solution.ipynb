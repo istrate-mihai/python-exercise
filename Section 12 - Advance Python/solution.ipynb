{
 "cells": [
  {
   "cell_type": "code",
   "execution_count": null,
   "metadata": {},
   "outputs": [
    {
     "name": "stdout",
     "output_type": "stream",
     "text": [
      "9\n",
      "8\n",
      "7\n",
      "6\n",
      "5\n",
      "4\n",
      "3\n",
      "2\n",
      "1\n",
      "0\n"
     ]
    }
   ],
   "source": [
    "### Assignment 1: Custom Iterator\n",
    "\n",
    "# Create a custom iterator class named `Countdown` that takes a number and counts down to zero. Implement the `__iter__` and `__next__` methods. Test the iterator by using it in a for loop.\n",
    "\n",
    "# Approach 1\n",
    "\n",
    "# class Countdown:\n",
    "#     def __init__(self, n):\n",
    "#         self.number_list = [i for i in range(n+1)]\n",
    "\n",
    "#     def get_number_list(self):\n",
    "#         self.number_list.sort(reverse  = True)\n",
    "#         return self.number_list\n",
    "\n",
    "# countdown          = Countdown(10)\n",
    "# number_list        = countdown.get_number_list()\n",
    "# number_list_length = len(number_list)\n",
    "# countdown_iterator = iter(number_list)\n",
    "\n",
    "# for i in range(number_list_length):\n",
    "#     print(next(countdown_iterator))\n",
    "\n",
    "class Countdown:\n",
    "\n",
    "    def __init__(self, start):\n",
    "        self.current = start\n",
    "\n",
    "    def __iter__(self):\n",
    "        return self\n",
    "\n",
    "    def __next__(self):\n",
    "        if self.current <= 0:\n",
    "            raise StopIteration\n",
    "        else:\n",
    "            self.current = self.current - 1\n",
    "            return self.current\n",
    "\n",
    "for i in Countdown(10):\n",
    "    print(i)"
   ]
  },
  {
   "cell_type": "code",
   "execution_count": 21,
   "metadata": {},
   "outputs": [
    {
     "name": "stdout",
     "output_type": "stream",
     "text": [
      "0\n",
      "1\n",
      "2\n",
      "3\n",
      "4\n"
     ]
    }
   ],
   "source": [
    "### Assignment 2: Custom Iterable Class\n",
    "\n",
    "# Create a class named `MyRange` that mimics the behavior of the built-in `range` function. Implement the `__iter__` and `__next__` methods. Test the class by using it in a for loop.\n",
    "\n",
    "class MyRange:\n",
    "\n",
    "    def __init__(self, end):\n",
    "        self.end     = end\n",
    "        self.current = -1\n",
    "    \n",
    "    def __iter__(self):\n",
    "        return self\n",
    "    \n",
    "    def __next__(self):\n",
    "        if self.current < self.end - 1:\n",
    "            self.current = self.current + 1\n",
    "            return self.current\n",
    "        else:\n",
    "            raise StopIteration\n",
    "\n",
    "for i in MyRange(5):\n",
    "    print(i)"
   ]
  },
  {
   "cell_type": "code",
   "execution_count": null,
   "metadata": {},
   "outputs": [],
   "source": [
    "### Assignment 3: Generator Function\n",
    "\n",
    "# Write a generator function named `fibonacci` that yields the Fibonacci sequence. Test the generator by iterating over it and printing the first 10 Fibonacci numbers.\n",
    "\n",
    "# import time\n",
    "\n",
    "# def base_fibonnacci(term):\n",
    "#     if term == 0:\n",
    "#         return 0\n",
    "    \n",
    "#     if term == 1:\n",
    "#         return 1\n",
    "    \n",
    "#     return base_fibonnacci(term - 1) + base_fibonnacci(term - 2)\n",
    "\n",
    "# def fibonnacci(term):\n",
    "#     for i in range(term):\n",
    "#         yield base_fibonnacci(i)\n",
    "\n",
    "# start_time = time.time()\n",
    "# fb_gen = fibonnacci(50)\n",
    "\n",
    "\n",
    "# for i in fb_gen:\n",
    "#     print(i)\n",
    "# end_time = time.time()\n",
    "# print(end_time - start_time)\n"
   ]
  },
  {
   "cell_type": "code",
   "execution_count": 32,
   "metadata": {},
   "outputs": [
    {
     "name": "stdout",
     "output_type": "stream",
     "text": [
      "1\n",
      "4\n",
      "27\n",
      "256\n",
      "3125\n",
      "46656\n",
      "823543\n",
      "16777216\n",
      "387420489\n"
     ]
    }
   ],
   "source": [
    "### Assignment 4: Generator Expression\n",
    "\n",
    "# Create a generator expression that generates the squares of numbers from 1 to 10. Iterate over the generator and print each value.\n",
    "\n",
    "square_list = (x ** x for x in range(1, 10))\n",
    "\n",
    "for square in square_list:\n",
    "    print(square)"
   ]
  },
  {
   "cell_type": "code",
   "execution_count": 38,
   "metadata": {},
   "outputs": [
    {
     "name": "stdout",
     "output_type": "stream",
     "text": [
      "1\n",
      "4\n",
      "256\n",
      "46656\n",
      "16777216\n",
      "10000000000\n",
      "8916100448256\n",
      "11112006825558016\n",
      "18446744073709551616\n",
      "39346408075296537575424\n"
     ]
    }
   ],
   "source": [
    "### Assignment 5: Chaining Generators\n",
    "\n",
    "# Write two generator functions: `even_numbers` that yields even numbers up to a limit, and `squares` that yields the square of each number from another generator.\n",
    "# Chain these generators to produce the squares of even numbers up to 20.\n",
    "\n",
    "def even_numbers(limit):\n",
    "    for i in range(0, limit, 2):\n",
    "        yield i\n",
    "\n",
    "def square_numbers(numbers):\n",
    "    for i in numbers:\n",
    "        yield i ** i\n",
    "\n",
    "en_g = even_numbers(20)\n",
    "sn_g = square_numbers(en_g)\n",
    "\n",
    "for i in sn_g:\n",
    "    print(i)"
   ]
  },
  {
   "cell_type": "code",
   "execution_count": null,
   "metadata": {},
   "outputs": [
    {
     "name": "stdout",
     "output_type": "stream",
     "text": [
      "0.0\n",
      "0.00099945068359375\n",
      "0.00099945068359375\n",
      "0.00099945068359375\n",
      "0.00099945068359375\n",
      "0.00099945068359375\n",
      "0.00099945068359375\n",
      "0.00099945068359375\n",
      "0.00099945068359375\n",
      "0.00099945068359375\n",
      "0.00099945068359375\n",
      "0.00099945068359375\n",
      "0.00099945068359375\n",
      "0.00099945068359375\n",
      "0.00099945068359375\n",
      "0.00099945068359375\n",
      "0.00099945068359375\n",
      "0.00099945068359375\n",
      "0.00099945068359375\n",
      "0.00099945068359375\n",
      "0.00099945068359375\n",
      "0.00099945068359375\n",
      "0.00099945068359375\n",
      "0.00099945068359375\n",
      "0.00099945068359375\n",
      "0.00099945068359375\n",
      "0.00099945068359375\n",
      "0.00099945068359375\n",
      "0.00099945068359375\n",
      "0.00099945068359375\n",
      "0.00099945068359375\n",
      "0.00099945068359375\n",
      "0.00099945068359375\n",
      "0.00099945068359375\n",
      "0.00099945068359375\n",
      "0.00099945068359375\n",
      "0.00099945068359375\n",
      "0.00099945068359375\n",
      "0.00099945068359375\n",
      "0.00099945068359375\n",
      "0.00099945068359375\n",
      "0.00099945068359375\n",
      "0.00099945068359375\n",
      "0.00099945068359375\n",
      "0.00099945068359375\n",
      "0.00099945068359375\n",
      "0.00099945068359375\n",
      "0.00099945068359375\n",
      "0.00099945068359375\n",
      "0.00099945068359375\n",
      "0.00099945068359375\n",
      "30414093201713378043612608166064768844377641568960512000000000000\n",
      "Fri Feb 21 16:08:04 2025\n"
     ]
    }
   ],
   "source": [
    "\n",
    "### Assignment 6: Simple Decorator\n",
    "\n",
    "# Write a decorator named `time_it` that measures the execution time of a function. Apply this decorator to a function that calculates the factorial of a number.\n",
    "\n",
    "from datetime import datetime\n",
    "import time\n",
    "\n",
    "def time_it(func):\n",
    "    def wrapper(*args, **kwargs):\n",
    "        start = time.time()\n",
    "        result = func(*args, **kwargs)\n",
    "        end = time.time()\n",
    "        time_delta = end - start\n",
    "        print(time_delta)\n",
    "        return result\n",
    "    return wrapper\n",
    "\n",
    "@time_it\n",
    "def calculate_factorial(n):\n",
    "    if n == 0:\n",
    "        return 1\n",
    "    return n * calculate_factorial(n - 1)\n",
    "\n",
    "print(calculate_factorial(50))\n",
    "\n",
    "# ts    = time.time()\n",
    "# tg    = time.gmtime(ts)                      \n",
    "# t_str = time.asctime(tg)\n",
    "# print(t_str)"
   ]
  },
  {
   "cell_type": "code",
   "execution_count": 23,
   "metadata": {},
   "outputs": [
    {
     "name": "stdout",
     "output_type": "stream",
     "text": [
      "Hello World\n",
      "Hello World\n",
      "Hello World\n"
     ]
    }
   ],
   "source": [
    "### Assignment 7: Decorator with Arguments\n",
    "\n",
    "# Write a decorator named `repeat` that takes an argument `n` and repeats the execution of the decorated function `n` times. Apply\n",
    "# this decorator to a function that prints a message.\n",
    "\n",
    "def repeat(n):\n",
    "    def decorator(func):\n",
    "        def wrapper(*args, **kwargs):\n",
    "            for _ in range(n):\n",
    "                func(*args, **kwargs)\n",
    "        return wrapper\n",
    "    return decorator\n",
    "\n",
    "repeat_decorator = repeat(3)\n",
    "\n",
    "@repeat_decorator\n",
    "def print_msg(msg):\n",
    "    print(msg)\n",
    "\n",
    "print_msg('Hello World')"
   ]
  },
  {
   "cell_type": "code",
   "execution_count": null,
   "metadata": {},
   "outputs": [],
   "source": []
  },
  {
   "cell_type": "code",
   "execution_count": null,
   "metadata": {},
   "outputs": [],
   "source": []
  },
  {
   "cell_type": "code",
   "execution_count": null,
   "metadata": {},
   "outputs": [],
   "source": []
  },
  {
   "cell_type": "code",
   "execution_count": null,
   "metadata": {},
   "outputs": [],
   "source": []
  },
  {
   "cell_type": "code",
   "execution_count": null,
   "metadata": {},
   "outputs": [],
   "source": []
  },
  {
   "cell_type": "code",
   "execution_count": null,
   "metadata": {},
   "outputs": [],
   "source": []
  },
  {
   "cell_type": "code",
   "execution_count": null,
   "metadata": {},
   "outputs": [],
   "source": []
  },
  {
   "cell_type": "code",
   "execution_count": null,
   "metadata": {},
   "outputs": [],
   "source": []
  },
  {
   "cell_type": "code",
   "execution_count": null,
   "metadata": {},
   "outputs": [],
   "source": []
  },
  {
   "cell_type": "code",
   "execution_count": null,
   "metadata": {},
   "outputs": [],
   "source": []
  },
  {
   "cell_type": "code",
   "execution_count": null,
   "metadata": {},
   "outputs": [],
   "source": []
  },
  {
   "cell_type": "code",
   "execution_count": null,
   "metadata": {},
   "outputs": [],
   "source": []
  },
  {
   "cell_type": "code",
   "execution_count": null,
   "metadata": {},
   "outputs": [],
   "source": []
  },
  {
   "cell_type": "code",
   "execution_count": null,
   "metadata": {},
   "outputs": [],
   "source": []
  },
  {
   "cell_type": "code",
   "execution_count": null,
   "metadata": {},
   "outputs": [],
   "source": []
  }
 ],
 "metadata": {
  "kernelspec": {
   "display_name": "Python 3",
   "language": "python",
   "name": "python3"
  },
  "language_info": {
   "codemirror_mode": {
    "name": "ipython",
    "version": 3
   },
   "file_extension": ".py",
   "mimetype": "text/x-python",
   "name": "python",
   "nbconvert_exporter": "python",
   "pygments_lexer": "ipython3",
   "version": "3.12.0"
  }
 },
 "nbformat": 4,
 "nbformat_minor": 2
}
