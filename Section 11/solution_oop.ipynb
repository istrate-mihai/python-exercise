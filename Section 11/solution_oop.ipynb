{
 "cells": [
  {
   "cell_type": "code",
   "execution_count": 1,
   "metadata": {},
   "outputs": [
    {
     "name": "stdout",
     "output_type": "stream",
     "text": [
      "Shape area\n",
      "Circle area\n",
      "Square area\n"
     ]
    }
   ],
   "source": [
    "### Assignment 1: Polymorphism with Methods\n",
    "\n",
    "# Create a base class named `Shape` with a method `area`. Create two derived classes `Circle` and `Square` that override the `area` method.\n",
    "# Create a list of `Shape` objects and call the `area` method on each object to demonstrate polymorphism.\n",
    "import math\n",
    "\n",
    "class Shape:\n",
    "  def area(self):\n",
    "    print('Shape area')\n",
    "\n",
    "class Circle(Shape):\n",
    "  def area(self):\n",
    "    print('Circle area')\n",
    "\n",
    "class Square(Shape):\n",
    "  def area(self):\n",
    "    print('Square area')\n",
    "\n",
    "myList = [Shape(), Circle(), Square()]\n",
    "\n",
    "for item in myList:\n",
    "  item.area()"
   ]
  },
  {
   "cell_type": "code",
   "execution_count": 3,
   "metadata": {},
   "outputs": [
    {
     "name": "stdout",
     "output_type": "stream",
     "text": [
      "Circle area\n",
      "Square area\n"
     ]
    }
   ],
   "source": [
    "### Assignment 2: Polymorphism with Function Arguments\n",
    "\n",
    "# Create a function named `describe_shape` that takes a `Shape` object as an argument and calls its `area` method.\n",
    "# Create objects of `Circle` and `Square` classes and pass them to the `describe_shape` function.\n",
    "\n",
    "def describe_shape(shape):\n",
    "  shape.area()\n",
    "\n",
    "describe_shape(myList[1])\n",
    "describe_shape(myList[2])"
   ]
  },
  {
   "cell_type": "code",
   "execution_count": 7,
   "metadata": {},
   "outputs": [
    {
     "name": "stdout",
     "output_type": "stream",
     "text": [
      "Car engine started\n",
      "Hydrogen\n",
      "Bike engine started\n",
      "Oil\n"
     ]
    }
   ],
   "source": [
    "### Assignment 3: Abstract Base Class with Abstract Methods\n",
    "\n",
    "# Create an abstract base class named `Vehicle` with an abstract method `start_engine`. Create derived classes `Car` and `Bike`\n",
    "# that implement the `start_engine` method. Create objects of the derived classes and call the `start_engine` method.\n",
    "\n",
    "from abc import ABC, abstractmethod\n",
    "\n",
    "class Vehicle(ABC):\n",
    "  @abstractmethod\n",
    "  def start_engine(self):\n",
    "    pass\n",
    "\n",
    "  def fuel_type(self):\n",
    "    return 'Diesel'\n",
    "\n",
    "class Car(Vehicle):\n",
    "  def start_engine(self):\n",
    "    print('Car engine started')\n",
    "  \n",
    "  def fuel_type(self):\n",
    "    return 'Hydrogen'\n",
    "\n",
    "class Bike(Vehicle):\n",
    "  def start_engine(self):\n",
    "    print('Bike engine started')\n",
    "\n",
    "  def fuel_type(self):\n",
    "    return 'Oil'\n",
    "\n",
    "car = Car()\n",
    "car.start_engine()\n",
    "print(car.fuel_type())\n",
    "\n",
    "bike = Bike()\n",
    "bike.start_engine()\n",
    "print(bike.fuel_type())"
   ]
  },
  {
   "cell_type": "code",
   "execution_count": 8,
   "metadata": {},
   "outputs": [],
   "source": [
    "### Assignment 4: Abstract Base Class with Concrete Methods\n",
    "\n",
    "# In the `Vehicle` class, add a concrete method `fuel_type` that returns a generic fuel type. Override this method in `Car` and `Bike`\n",
    "# classes to return specific fuel types. Create objects of the derived classes and call the `fuel_type` method."
   ]
  },
  {
   "cell_type": "code",
   "execution_count": 7,
   "metadata": {},
   "outputs": [
    {
     "name": "stdout",
     "output_type": "stream",
     "text": [
      "100\n",
      "1000\n"
     ]
    }
   ],
   "source": [
    "### Assignment 5: Encapsulation with Private Attributes\n",
    "\n",
    "# Create a class named `BankAccount` with private attributes `account_number` and `balance`. Add methods to deposit and withdraw money,\n",
    "# and to check the balance. Ensure that the balance cannot be accessed directly.\n",
    "\n",
    "class BankAccount:\n",
    "  def __init__(self, account_number):\n",
    "    self.account_number = account_number\n",
    "    self.__balance      = 0\n",
    "\n",
    "  def withdraw(self, amount):\n",
    "    self.__balance = self.__balance - amount\n",
    "    return amount\n",
    "\n",
    "  def deposit(self, amount):\n",
    "    self.__balance = self.__balance + amount\n",
    "\n",
    "  def check__balance(self):\n",
    "    return self.__balance\n",
    "\n",
    "  @property\n",
    "  def balance(self):\n",
    "    return self.__balance\n",
    "\n",
    "  @balance.setter\n",
    "  def balance(self, amount):\n",
    "    if amount < 0:\n",
    "      print('Cannot set a negative balance')\n",
    "      return\n",
    "    self.__balance = amount\n",
    "  \n",
    "bankAccount = BankAccount('12466')\n",
    "bankAccount.balance = 1000\n",
    "print(bankAccount.withdraw(100))\n",
    "bankAccount.deposit(100)\n",
    "print(bankAccount.check__balance())"
   ]
  },
  {
   "cell_type": "code",
   "execution_count": 8,
   "metadata": {},
   "outputs": [],
   "source": [
    "### Assignment 6: Encapsulation with Property Decorators\n",
    "\n",
    "# In the `BankAccount` class, use property decorators to get and set the `balance` attribute. Ensure that the balance cannot be set to a negative value.\n",
    "# Done"
   ]
  },
  {
   "cell_type": "code",
   "execution_count": 11,
   "metadata": {},
   "outputs": [
    {
     "name": "stdout",
     "output_type": "stream",
     "text": [
      "28\n",
      "Mihai\n"
     ]
    }
   ],
   "source": [
    "### Assignment 7: Combining Encapsulation and Inheritance\n",
    "\n",
    "# Create a base class named `Person` with private attributes `name` and `age`. Add methods to get and set these attributes. Create a derived class named `Student` that adds an\n",
    "# attribute `student_id`. Create an object of the `Student` class and test the encapsulation.\n",
    "\n",
    "class Person:\n",
    "    def __init__(self):\n",
    "        self.__name = ''\n",
    "        self.__age  = 0\n",
    "\n",
    "    @property\n",
    "    def name(self):\n",
    "        return self.__name\n",
    "\n",
    "    @name.setter\n",
    "    def name(self, name):\n",
    "        self.__name = name\n",
    "\n",
    "    @property\n",
    "    def age(self):\n",
    "        return self.__age\n",
    "\n",
    "    @age.setter\n",
    "    def age(self, age):\n",
    "        self.__age = age\n",
    "\n",
    "class Student(Person):\n",
    "    def __init__(self, student_id):\n",
    "        self.__student_id = student_id\n",
    "\n",
    "student = Student(123)\n",
    "student.name = 'Mihai'\n",
    "student.age = 28\n",
    "print(student.age)\n",
    "print(student.name)"
   ]
  },
  {
   "cell_type": "code",
   "execution_count": null,
   "metadata": {},
   "outputs": [
    {
     "name": "stdout",
     "output_type": "stream",
     "text": [
      "Woof Woof\n",
      "None\n",
      "Meow Meow\n",
      "None\n"
     ]
    }
   ],
   "source": [
    "### Assignment 8: Polymorphism with Inheritance\n",
    "\n",
    "# Create a base class named `Animal` with a method `speak`. Create two derived classes `Dog` and `Cat` that override the `speak` method. Create a list of `Animal` objects and call the `speak` method on\n",
    "# each object to demonstrate polymorphism.\n",
    "\n",
    "class Animal:\n",
    "    def speak(self):\n",
    "        print('Hrrrrrrrrrrrr')\n",
    "\n",
    "class Dog(Animal):\n",
    "    def speak(self):\n",
    "        print('Woof Woof')\n",
    "\n",
    "class Cat(Animal):\n",
    "    def speak(self):\n",
    "        print('Meow Meow')\n",
    "\n",
    "animalList = [Dog(), Cat()]\n",
    "\n",
    "for animal in animalList:\n",
    "    print(animal.speak())\n"
   ]
  },
  {
   "cell_type": "code",
   "execution_count": 13,
   "metadata": {},
   "outputs": [
    {
     "name": "stdout",
     "output_type": "stream",
     "text": [
      "400\n",
      "200\n"
     ]
    }
   ],
   "source": [
    "### Assignment 9: Abstract Methods in Base Class\n",
    "\n",
    "# Create an abstract base class named `Employee` with an abstract method `calculate_salary`. Create two derived classes `FullTimeEmployee` and `PartTimeEmployee` that implement the\n",
    "# `calculate_salary` method. Create objects of the derived classes and call the `calculate_salary` method.\n",
    "\n",
    "from abc import ABC, abstractmethod\n",
    "\n",
    "class Employee(ABC):\n",
    "    @abstractmethod\n",
    "    def calculate_salary(self):\n",
    "        pass\n",
    "\n",
    "class FullTimeEmployee(Employee):\n",
    "    def calculate_salary(self):\n",
    "        return 10 * 40\n",
    "\n",
    "class PartTimeEmployee(Employee):\n",
    "    def calculate_salary(self):\n",
    "        return 10 * 20\n",
    "\n",
    "fullTimeEmployee = FullTimeEmployee()\n",
    "partTimeEmployee = PartTimeEmployee()\n",
    "\n",
    "print(fullTimeEmployee.calculate_salary())\n",
    "print(partTimeEmployee.calculate_salary())"
   ]
  },
  {
   "cell_type": "code",
   "execution_count": null,
   "metadata": {},
   "outputs": [
    {
     "name": "stdout",
     "output_type": "stream",
     "text": [
      "Television\n"
     ]
    },
    {
     "ename": "AttributeError",
     "evalue": "property 'productId' of 'Product' object has no setter",
     "output_type": "error",
     "traceback": [
      "\u001b[1;31m---------------------------------------------------------------------------\u001b[0m",
      "\u001b[1;31mAttributeError\u001b[0m                            Traceback (most recent call last)",
      "Cell \u001b[1;32mIn[20], line 42\u001b[0m\n\u001b[0;32m     39\u001b[0m product\u001b[38;5;241m.\u001b[39mname \u001b[38;5;241m=\u001b[39m \u001b[38;5;124m'\u001b[39m\u001b[38;5;124mTelevision\u001b[39m\u001b[38;5;124m'\u001b[39m\n\u001b[0;32m     40\u001b[0m \u001b[38;5;28mprint\u001b[39m(product\u001b[38;5;241m.\u001b[39mname)\n\u001b[1;32m---> 42\u001b[0m \u001b[43mproduct\u001b[49m\u001b[38;5;241;43m.\u001b[39;49m\u001b[43mproductId\u001b[49m \u001b[38;5;241m=\u001b[39m \u001b[38;5;241m100\u001b[39m\n\u001b[0;32m     43\u001b[0m \u001b[38;5;28mprint\u001b[39m(product\u001b[38;5;241m.\u001b[39mproductId)\n\u001b[0;32m     45\u001b[0m product\u001b[38;5;241m.\u001b[39mprice \u001b[38;5;241m=\u001b[39m \u001b[38;5;241m500\u001b[39m\n",
      "\u001b[1;31mAttributeError\u001b[0m: property 'productId' of 'Product' object has no setter"
     ]
    }
   ],
   "source": [
    "### Assignment 10: Encapsulation in Data Classes\n",
    "\n",
    "# Create a data class named `Product` with private attributes `product_id`, `name`, and `price`. Add methods to get and set these attributes. Ensure that the price cannot be set to a negative value.\n",
    "\n",
    "class Product:\n",
    "    def __init__(self):\n",
    "        self.__name       = ''\n",
    "        self.__price      = 0\n",
    "        self.__productId  = 0\n",
    "\n",
    "    @property\n",
    "    def name(self):\n",
    "        return self.__name\n",
    "\n",
    "    @name.setter\n",
    "    def name(self, name):\n",
    "        self.__name = name\n",
    "\n",
    "    @property\n",
    "    def productId(self):\n",
    "        return self.__productId\n",
    "\n",
    "    @productId.setter\n",
    "    def name(self, productId):\n",
    "        self.__productId = productId\n",
    "\n",
    "    @property\n",
    "    def price(self):\n",
    "        return self.__price\n",
    "\n",
    "    @price.setter\n",
    "    def price(self, price):\n",
    "        if price < 0:\n",
    "            print('Cannot set negative price')\n",
    "            return\n",
    "        self.__price = price\n",
    "\n",
    "product = Product()\n",
    "product.name = 'Television'\n",
    "print(product.name)\n",
    "\n",
    "product.productId = 100\n",
    "print(product.productId)\n",
    "\n",
    "product.price = 500\n",
    "print(product.price)"
   ]
  },
  {
   "cell_type": "code",
   "execution_count": null,
   "metadata": {},
   "outputs": [],
   "source": []
  },
  {
   "cell_type": "code",
   "execution_count": null,
   "metadata": {},
   "outputs": [],
   "source": []
  },
  {
   "cell_type": "code",
   "execution_count": null,
   "metadata": {},
   "outputs": [],
   "source": []
  },
  {
   "cell_type": "code",
   "execution_count": null,
   "metadata": {},
   "outputs": [],
   "source": []
  },
  {
   "cell_type": "code",
   "execution_count": null,
   "metadata": {},
   "outputs": [],
   "source": []
  },
  {
   "cell_type": "code",
   "execution_count": null,
   "metadata": {},
   "outputs": [],
   "source": []
  },
  {
   "cell_type": "code",
   "execution_count": null,
   "metadata": {},
   "outputs": [],
   "source": []
  },
  {
   "cell_type": "code",
   "execution_count": null,
   "metadata": {},
   "outputs": [],
   "source": []
  },
  {
   "cell_type": "code",
   "execution_count": null,
   "metadata": {},
   "outputs": [],
   "source": []
  }
 ],
 "metadata": {
  "kernelspec": {
   "display_name": "Python 3",
   "language": "python",
   "name": "python3"
  },
  "language_info": {
   "codemirror_mode": {
    "name": "ipython",
    "version": 3
   },
   "file_extension": ".py",
   "mimetype": "text/x-python",
   "name": "python",
   "nbconvert_exporter": "python",
   "pygments_lexer": "ipython3",
   "version": "3.12.0"
  }
 },
 "nbformat": 4,
 "nbformat_minor": 2
}
