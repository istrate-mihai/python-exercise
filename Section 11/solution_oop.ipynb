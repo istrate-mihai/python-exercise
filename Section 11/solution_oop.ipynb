{
 "cells": [
  {
   "cell_type": "code",
   "execution_count": 1,
   "metadata": {},
   "outputs": [
    {
     "name": "stdout",
     "output_type": "stream",
     "text": [
      "Shape area\n",
      "Circle area\n",
      "Square area\n"
     ]
    }
   ],
   "source": [
    "### Assignment 1: Polymorphism with Methods\n",
    "\n",
    "# Create a base class named `Shape` with a method `area`. Create two derived classes `Circle` and `Square` that override the `area` method.\n",
    "# Create a list of `Shape` objects and call the `area` method on each object to demonstrate polymorphism.\n",
    "import math\n",
    "\n",
    "class Shape:\n",
    "  def area(self):\n",
    "    print('Shape area')\n",
    "\n",
    "class Circle(Shape):\n",
    "  def area(self):\n",
    "    print('Circle area')\n",
    "\n",
    "class Square(Shape):\n",
    "  def area(self):\n",
    "    print('Square area')\n",
    "\n",
    "myList = [Shape(), Circle(), Square()]\n",
    "\n",
    "for item in myList:\n",
    "  item.area()"
   ]
  },
  {
   "cell_type": "code",
   "execution_count": 3,
   "metadata": {},
   "outputs": [
    {
     "name": "stdout",
     "output_type": "stream",
     "text": [
      "Circle area\n",
      "Square area\n"
     ]
    }
   ],
   "source": [
    "### Assignment 2: Polymorphism with Function Arguments\n",
    "\n",
    "# Create a function named `describe_shape` that takes a `Shape` object as an argument and calls its `area` method.\n",
    "# Create objects of `Circle` and `Square` classes and pass them to the `describe_shape` function.\n",
    "\n",
    "def describe_shape(shape):\n",
    "  shape.area()\n",
    "\n",
    "describe_shape(myList[1])\n",
    "describe_shape(myList[2])"
   ]
  },
  {
   "cell_type": "code",
   "execution_count": 7,
   "metadata": {},
   "outputs": [
    {
     "name": "stdout",
     "output_type": "stream",
     "text": [
      "Car engine started\n",
      "Hydrogen\n",
      "Bike engine started\n",
      "Oil\n"
     ]
    }
   ],
   "source": [
    "### Assignment 3: Abstract Base Class with Abstract Methods\n",
    "\n",
    "# Create an abstract base class named `Vehicle` with an abstract method `start_engine`. Create derived classes `Car` and `Bike`\n",
    "# that implement the `start_engine` method. Create objects of the derived classes and call the `start_engine` method.\n",
    "\n",
    "from abc import ABC, abstractmethod\n",
    "\n",
    "class Vehicle(ABC):\n",
    "  @abstractmethod\n",
    "  def start_engine(self):\n",
    "    pass\n",
    "\n",
    "  def fuel_type(self):\n",
    "    return 'Diesel'\n",
    "\n",
    "class Car(Vehicle):\n",
    "  def start_engine(self):\n",
    "    print('Car engine started')\n",
    "  \n",
    "  def fuel_type(self):\n",
    "    return 'Hydrogen'\n",
    "\n",
    "class Bike(Vehicle):\n",
    "  def start_engine(self):\n",
    "    print('Bike engine started')\n",
    "\n",
    "  def fuel_type(self):\n",
    "    return 'Oil'\n",
    "\n",
    "car = Car()\n",
    "car.start_engine()\n",
    "print(car.fuel_type())\n",
    "\n",
    "bike = Bike()\n",
    "bike.start_engine()\n",
    "print(bike.fuel_type())"
   ]
  },
  {
   "cell_type": "code",
   "execution_count": 8,
   "metadata": {},
   "outputs": [],
   "source": [
    "### Assignment 4: Abstract Base Class with Concrete Methods\n",
    "\n",
    "# In the `Vehicle` class, add a concrete method `fuel_type` that returns a generic fuel type. Override this method in `Car` and `Bike`\n",
    "# classes to return specific fuel types. Create objects of the derived classes and call the `fuel_type` method."
   ]
  },
  {
   "cell_type": "code",
   "execution_count": 10,
   "metadata": {},
   "outputs": [
    {
     "name": "stdout",
     "output_type": "stream",
     "text": [
      "100\n",
      "500\n"
     ]
    }
   ],
   "source": [
    "### Assignment 5: Encapsulation with Private Attributes\n",
    "\n",
    "# Create a class named `BankAccount` with private attributes `account_number` and `balance`. Add methods to deposit and withdraw money,\n",
    "# and to check the balance. Ensure that the balance cannot be accessed directly.\n",
    "\n",
    "class BankAccount:\n",
    "  def __init__(self, account_number, balance):\n",
    "    self.account_number = account_number\n",
    "    self.__balance      = balance\n",
    "  \n",
    "  def withdraw(self, amount):\n",
    "    self.__balance = self.__balance - amount\n",
    "    return amount\n",
    "\n",
    "  def deposit(self, amount):\n",
    "    self.__balance = self.__balance + amount\n",
    "\n",
    "  def check_balance(self):\n",
    "    return self.__balance\n",
    "  \n",
    "bankAccount = BankAccount('12466', 500)\n",
    "print(bankAccount.withdraw(100))\n",
    "bankAccount.deposit(100)\n",
    "print(bankAccount.check_balance())"
   ]
  },
  {
   "cell_type": "code",
   "execution_count": null,
   "metadata": {},
   "outputs": [],
   "source": []
  },
  {
   "cell_type": "code",
   "execution_count": null,
   "metadata": {},
   "outputs": [],
   "source": []
  },
  {
   "cell_type": "code",
   "execution_count": null,
   "metadata": {},
   "outputs": [],
   "source": []
  },
  {
   "cell_type": "code",
   "execution_count": null,
   "metadata": {},
   "outputs": [],
   "source": []
  },
  {
   "cell_type": "code",
   "execution_count": null,
   "metadata": {},
   "outputs": [],
   "source": []
  },
  {
   "cell_type": "code",
   "execution_count": null,
   "metadata": {},
   "outputs": [],
   "source": []
  },
  {
   "cell_type": "code",
   "execution_count": null,
   "metadata": {},
   "outputs": [],
   "source": []
  },
  {
   "cell_type": "code",
   "execution_count": null,
   "metadata": {},
   "outputs": [],
   "source": []
  },
  {
   "cell_type": "code",
   "execution_count": null,
   "metadata": {},
   "outputs": [],
   "source": []
  },
  {
   "cell_type": "code",
   "execution_count": null,
   "metadata": {},
   "outputs": [],
   "source": []
  },
  {
   "cell_type": "code",
   "execution_count": null,
   "metadata": {},
   "outputs": [],
   "source": []
  },
  {
   "cell_type": "code",
   "execution_count": null,
   "metadata": {},
   "outputs": [],
   "source": []
  },
  {
   "cell_type": "code",
   "execution_count": null,
   "metadata": {},
   "outputs": [],
   "source": []
  },
  {
   "cell_type": "code",
   "execution_count": null,
   "metadata": {},
   "outputs": [],
   "source": []
  }
 ],
 "metadata": {
  "kernelspec": {
   "display_name": "Python 3",
   "language": "python",
   "name": "python3"
  },
  "language_info": {
   "codemirror_mode": {
    "name": "ipython",
    "version": 3
   },
   "file_extension": ".py",
   "mimetype": "text/x-python",
   "name": "python",
   "nbconvert_exporter": "python",
   "pygments_lexer": "ipython3",
   "version": "3.12.0"
  }
 },
 "nbformat": 4,
 "nbformat_minor": 2
}
