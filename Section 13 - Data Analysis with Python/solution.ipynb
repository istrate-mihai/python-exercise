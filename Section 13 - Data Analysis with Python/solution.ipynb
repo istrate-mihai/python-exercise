{
 "cells": [
  {
   "cell_type": "code",
   "execution_count": 3,
   "metadata": {},
   "outputs": [],
   "source": [
    "import numpy as np"
   ]
  },
  {
   "cell_type": "code",
   "execution_count": null,
   "metadata": {},
   "outputs": [
    {
     "name": "stdout",
     "output_type": "stream",
     "text": [
      "[[ 1  2  3  4]\n",
      " [ 5  6  7  8]\n",
      " [ 9 10 11 12]\n",
      " [13 14 15 16]]\n",
      "\n",
      "[[ 0  2  3  0]\n",
      " [ 5  0  0  8]\n",
      " [ 9  0  0 12]\n",
      " [ 0 14 15  0]]\n"
     ]
    }
   ],
   "source": [
    "### Assignment 1: Array Creation and Manipulation\n",
    "\n",
    "# 1. Create a NumPy array of shape (5, 5) filled with random integers between 1 and 20. Replace all the elements in the third\n",
    "# column with 1.\n",
    "# 2. Create a NumPy array of shape (4, 4) with values from 1 to 16. Replace the diagonal elements with 0.\n",
    "\n",
    "arr1 = np.random.randint(1, 21, size = (5, 5))\n",
    "\n",
    "arr1[:, 2] = 1\n",
    "# print(arr1)\n",
    "\n",
    "arr2     = np.arange(1, 17).reshape(4, 4)\n",
    "arr2_len = len(arr2)\n",
    "indexes = list(range(arr2_len))\n",
    "\n",
    "print(arr2)\n",
    "print()\n",
    "\n",
    "for i in indexes:\n",
    "    for j in indexes:\n",
    "        if j == i:\n",
    "            arr2[i, j] = 0\n",
    "            pass\n",
    "        if j == (arr2_len - 1) - i:\n",
    "            arr2[i, j] = 0\n",
    "\n",
    "print(arr2)\n"
   ]
  },
  {
   "cell_type": "code",
   "execution_count": 134,
   "metadata": {},
   "outputs": [
    {
     "name": "stdout",
     "output_type": "stream",
     "text": [
      "[[ 1  2  3  4  5]\n",
      " [ 6  7  8  9 10]\n",
      " [11 12 13 14 15]\n",
      " [16 17 18 19 20]\n",
      " [21 22 23 24 25]]\n",
      "[ 1  2  3  4  5  6 10 11 15 16 20 21 22 23 24 25]\n"
     ]
    }
   ],
   "source": [
    "### Assignment 2: Array Indexing and Slicing\n",
    "\n",
    "# 1. Create a NumPy array of shape (6, 6) with values from 1 to 36. Extract the sub-array consisting of the 3rd to 5th\n",
    "# rows and 2nd to 4th columns.\n",
    "# 2. Create a NumPy array of shape (5, 5) with random integers. Extract the elements on the border.\n",
    "\n",
    "arr3 = np.arange(1, 37).reshape(6, 6)\n",
    "# print(arr3[2:5, 1:4])\n",
    "\n",
    "arr4 = np.arange(1, 26).reshape(5, 5)\n",
    "\n",
    "# arr4 = np.random.randint(0, 10, size = (5, 5)) # unresolved by usual means\n",
    "border_elements = []\n",
    "arr4_len        = len(arr4)\n",
    "\n",
    "print(arr4)\n",
    "\n",
    "for (outer_index, inner_arr) in enumerate(arr4):\n",
    "    for (inner_index, value) in enumerate(inner_arr):\n",
    "        if outer_index == 0 or outer_index == (arr4_len - 1):\n",
    "            border_elements.append(arr4[outer_index, inner_index])\n",
    "        else:\n",
    "            if inner_index == 0 or inner_index == (arr4_len - 1):\n",
    "                border_elements.append(arr4[outer_index, inner_index])\n",
    "\n",
    "ndarr_border_elements = np.array(border_elements)\n",
    "print(ndarr_border_elements)"
   ]
  },
  {
   "cell_type": "code",
   "execution_count": 138,
   "metadata": {},
   "outputs": [
    {
     "name": "stdout",
     "output_type": "stream",
     "text": [
      "[[1 9 3 1]\n",
      " [1 8 7 4]\n",
      " [3 6 3 9]\n",
      " [4 2 5 7]]\n",
      "\n",
      "73\n"
     ]
    }
   ],
   "source": [
    "### Assignment 3: Array Operations\n",
    "\n",
    "# 1. Create two NumPy arrays of shape (3, 4) filled with random integers. Perform element-wise addition, subtraction,\n",
    "# multiplication, and division.\n",
    "# 2. Create a NumPy array of shape (4, 4) with values from 1 to 16. Compute the row-wise and column-wise sum.\n",
    "\n",
    "arr5 = np.random.randint(0, 10, size = (3, 4))\n",
    "arr6 = np.random.randint(0, 10, size = (3, 4))\n",
    "\n",
    "# # addition\n",
    "# print(arr5)\n",
    "# print()\n",
    "# print(arr6)\n",
    "# print()\n",
    "# print(arr5 + arr6)\n",
    "\n",
    "# # subtraction\n",
    "# print(arr5)\n",
    "# print()\n",
    "# print(arr6)\n",
    "# print()\n",
    "# print(arr5 - arr6)\n",
    "\n",
    "# # multiplication\n",
    "# print(arr5)\n",
    "# print()\n",
    "# print(arr6)\n",
    "# print()\n",
    "# print(arr5 * arr6)\n",
    "\n",
    "# # division\n",
    "# print(arr5)\n",
    "# print()\n",
    "# print(arr6)\n",
    "# print()\n",
    "# print(arr5 / arr6)\n",
    "\n",
    "arr6 = np.random.randint(1, 10, size = (4, 4))\n",
    "print(arr6)\n",
    "print()\n",
    "print(np.sum(arr6))"
   ]
  },
  {
   "cell_type": "code",
   "execution_count": 142,
   "metadata": {},
   "outputs": [
    {
     "name": "stdout",
     "output_type": "stream",
     "text": [
      "[[9 2 1]\n",
      " [8 9 9]\n",
      " [6 8 3]]\n",
      "\n",
      "[[ 0.94064699 -1.33861302 -1.66422159]\n",
      " [ 0.61503841  0.94064699  0.94064699]\n",
      " [-0.03617873  0.61503841 -1.01300445]]\n"
     ]
    }
   ],
   "source": [
    "### Assignment 4: Statistical Operations\n",
    "\n",
    "# 1. Create a NumPy array of shape (5, 5) filled with random integers. Compute the mean, median, standard deviation,\n",
    "# and variance of the array.\n",
    "# 2. Create a NumPy array of shape (3, 3) with values from 1 to 9. Normalize the array (i.e., scale the values to have a\n",
    "# mean of 0 and a standard deviation of 1).\n",
    "\n",
    "arr7 = np.random.randint(1, 10, size = (5, 5))\n",
    "# print(np.mean(arr7))\n",
    "# print(np.median(arr7))\n",
    "# print(np.std(arr7))\n",
    "# print(np.var(arr7))\n",
    "\n",
    "arr8 = np.random.randint(1, 10, size = (3, 3))\n",
    "print(arr8)\n",
    "print()\n",
    "arr8 = (arr8 - np.mean(arr8)) / np.std(arr8)\n",
    "print(arr8)"
   ]
  },
  {
   "cell_type": "code",
   "execution_count": 147,
   "metadata": {},
   "outputs": [
    {
     "name": "stdout",
     "output_type": "stream",
     "text": [
      "[[ 5 11  5]\n",
      " [ 9 10  8]\n",
      " [10  7  4]]\n",
      "[[ 2  4  9  5]\n",
      " [ 3  7  8 13]\n",
      " [ 7 10  6  5]\n",
      " [10  5  5  6]]\n"
     ]
    }
   ],
   "source": [
    "### Assignment 5: Broadcasting\n",
    "\n",
    "# 1. Create a NumPy array of shape (3, 3) filled with random integers. Add a 1D array of shape (3,) to each row of the\n",
    "# 2D array using broadcasting.\n",
    "# 2. Create a NumPy array of shape (4, 4) filled with random integers. Subtract a 1D array of shape (4,) from each column\n",
    "# of the 2D array using broadcasting.\n",
    "\n",
    "arr9       = np.random.randint(1, 10, size = (3, 3))\n",
    "base_list  = [1, 2, 3]\n",
    "arr1_1d    = np.array(base_list)\n",
    "arr9_broad = arr9 + arr1_1d\n",
    "\n",
    "print(arr9_broad)\n",
    "\n",
    "arr10   = np.random.randint(1, 10, size = (4, 4))\n",
    "base_list.append(4)\n",
    "arr1_2d = np.array(base_list)\n",
    "\n",
    "arr10_broad = arr10 + arr1_2d\n",
    "\n",
    "print(arr10_broad)\n"
   ]
  },
  {
   "cell_type": "code",
   "execution_count": null,
   "metadata": {},
   "outputs": [],
   "source": [
    "### Assignment 6: Linear Algebra\n",
    "\n",
    "# 1. Create a NumPy array of shape (3, 3) representing a matrix. Compute its determinant, inverse, and eigenvalues.\n",
    "# 2. Create two NumPy arrays of shape (2, 3) and (3, 2). Perform matrix multiplication on these arrays."
   ]
  },
  {
   "cell_type": "code",
   "execution_count": null,
   "metadata": {},
   "outputs": [],
   "source": []
  },
  {
   "cell_type": "code",
   "execution_count": null,
   "metadata": {},
   "outputs": [],
   "source": []
  },
  {
   "cell_type": "code",
   "execution_count": null,
   "metadata": {},
   "outputs": [],
   "source": []
  },
  {
   "cell_type": "code",
   "execution_count": null,
   "metadata": {},
   "outputs": [],
   "source": []
  },
  {
   "cell_type": "code",
   "execution_count": null,
   "metadata": {},
   "outputs": [],
   "source": []
  },
  {
   "cell_type": "code",
   "execution_count": null,
   "metadata": {},
   "outputs": [],
   "source": []
  },
  {
   "cell_type": "code",
   "execution_count": null,
   "metadata": {},
   "outputs": [],
   "source": []
  },
  {
   "cell_type": "code",
   "execution_count": null,
   "metadata": {},
   "outputs": [],
   "source": []
  },
  {
   "cell_type": "code",
   "execution_count": null,
   "metadata": {},
   "outputs": [],
   "source": []
  },
  {
   "cell_type": "code",
   "execution_count": null,
   "metadata": {},
   "outputs": [],
   "source": []
  },
  {
   "cell_type": "code",
   "execution_count": null,
   "metadata": {},
   "outputs": [],
   "source": []
  },
  {
   "cell_type": "code",
   "execution_count": null,
   "metadata": {},
   "outputs": [],
   "source": []
  }
 ],
 "metadata": {
  "kernelspec": {
   "display_name": "Python 3",
   "language": "python",
   "name": "python3"
  },
  "language_info": {
   "codemirror_mode": {
    "name": "ipython",
    "version": 3
   },
   "file_extension": ".py",
   "mimetype": "text/x-python",
   "name": "python",
   "nbconvert_exporter": "python",
   "pygments_lexer": "ipython3",
   "version": "3.12.0"
  }
 },
 "nbformat": 4,
 "nbformat_minor": 2
}
