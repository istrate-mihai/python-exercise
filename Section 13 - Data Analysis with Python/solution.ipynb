{
 "cells": [
  {
   "cell_type": "code",
   "execution_count": 1,
   "metadata": {},
   "outputs": [],
   "source": [
    "import numpy as np"
   ]
  },
  {
   "cell_type": "code",
   "execution_count": 2,
   "metadata": {},
   "outputs": [
    {
     "name": "stdout",
     "output_type": "stream",
     "text": [
      "[[ 1  2  3  4]\n",
      " [ 5  6  7  8]\n",
      " [ 9 10 11 12]\n",
      " [13 14 15 16]]\n",
      "\n",
      "[[ 0  2  3  0]\n",
      " [ 5  0  0  8]\n",
      " [ 9  0  0 12]\n",
      " [ 0 14 15  0]]\n"
     ]
    }
   ],
   "source": [
    "### Assignment 1: Array Creation and Manipulation\n",
    "\n",
    "# 1. Create a NumPy array of shape (5, 5) filled with random integers between 1 and 20. Replace all the elements in the third\n",
    "# column with 1.\n",
    "# 2. Create a NumPy array of shape (4, 4) with values from 1 to 16. Replace the diagonal elements with 0.\n",
    "\n",
    "arr1 = np.random.randint(1, 21, size = (5, 5))\n",
    "\n",
    "arr1[:, 2] = 1\n",
    "# print(arr1)\n",
    "\n",
    "arr2     = np.arange(1, 17).reshape(4, 4)\n",
    "arr2_len = len(arr2)\n",
    "indexes = list(range(arr2_len))\n",
    "\n",
    "print(arr2)\n",
    "print()\n",
    "\n",
    "for i in indexes:\n",
    "    for j in indexes:\n",
    "        if j == i:\n",
    "            arr2[i, j] = 0\n",
    "            pass\n",
    "        if j == (arr2_len - 1) - i:\n",
    "            arr2[i, j] = 0\n",
    "\n",
    "print(arr2)\n"
   ]
  },
  {
   "cell_type": "code",
   "execution_count": 3,
   "metadata": {},
   "outputs": [
    {
     "name": "stdout",
     "output_type": "stream",
     "text": [
      "[[ 1  2  3  4  5]\n",
      " [ 6  7  8  9 10]\n",
      " [11 12 13 14 15]\n",
      " [16 17 18 19 20]\n",
      " [21 22 23 24 25]]\n",
      "[ 1  2  3  4  5  6 10 11 15 16 20 21 22 23 24 25]\n"
     ]
    }
   ],
   "source": [
    "### Assignment 2: Array Indexing and Slicing\n",
    "\n",
    "# 1. Create a NumPy array of shape (6, 6) with values from 1 to 36. Extract the sub-array consisting of the 3rd to 5th\n",
    "# rows and 2nd to 4th columns.\n",
    "# 2. Create a NumPy array of shape (5, 5) with random integers. Extract the elements on the border.\n",
    "\n",
    "arr3 = np.arange(1, 37).reshape(6, 6)\n",
    "# print(arr3[2:5, 1:4])\n",
    "\n",
    "arr4 = np.arange(1, 26).reshape(5, 5)\n",
    "\n",
    "# arr4 = np.random.randint(0, 10, size = (5, 5)) # unresolved by usual means\n",
    "border_elements = []\n",
    "arr4_len        = len(arr4)\n",
    "\n",
    "print(arr4)\n",
    "\n",
    "for (outer_index, inner_arr) in enumerate(arr4):\n",
    "    for (inner_index, value) in enumerate(inner_arr):\n",
    "        if outer_index == 0 or outer_index == (arr4_len - 1):\n",
    "            border_elements.append(arr4[outer_index, inner_index])\n",
    "        else:\n",
    "            if inner_index == 0 or inner_index == (arr4_len - 1):\n",
    "                border_elements.append(arr4[outer_index, inner_index])\n",
    "\n",
    "ndarr_border_elements = np.array(border_elements)\n",
    "print(ndarr_border_elements)"
   ]
  },
  {
   "cell_type": "code",
   "execution_count": 4,
   "metadata": {},
   "outputs": [
    {
     "name": "stdout",
     "output_type": "stream",
     "text": [
      "[[6 9 1 4]\n",
      " [8 2 7 5]\n",
      " [8 9 4 4]\n",
      " [9 9 6 8]]\n",
      "\n",
      "99\n"
     ]
    }
   ],
   "source": [
    "### Assignment 3: Array Operations\n",
    "\n",
    "# 1. Create two NumPy arrays of shape (3, 4) filled with random integers. Perform element-wise addition, subtraction,\n",
    "# multiplication, and division.\n",
    "# 2. Create a NumPy array of shape (4, 4) with values from 1 to 16. Compute the row-wise and column-wise sum.\n",
    "\n",
    "arr5 = np.random.randint(0, 10, size = (3, 4))\n",
    "arr6 = np.random.randint(0, 10, size = (3, 4))\n",
    "\n",
    "# # addition\n",
    "# print(arr5)\n",
    "# print()\n",
    "# print(arr6)\n",
    "# print()\n",
    "# print(arr5 + arr6)\n",
    "\n",
    "# # subtraction\n",
    "# print(arr5)\n",
    "# print()\n",
    "# print(arr6)\n",
    "# print()\n",
    "# print(arr5 - arr6)\n",
    "\n",
    "# # multiplication\n",
    "# print(arr5)\n",
    "# print()\n",
    "# print(arr6)\n",
    "# print()\n",
    "# print(arr5 * arr6)\n",
    "\n",
    "# # division\n",
    "# print(arr5)\n",
    "# print()\n",
    "# print(arr6)\n",
    "# print()\n",
    "# print(arr5 / arr6)\n",
    "\n",
    "arr6 = np.random.randint(1, 10, size = (4, 4))\n",
    "print(arr6)\n",
    "print()\n",
    "print(np.sum(arr6))"
   ]
  },
  {
   "cell_type": "code",
   "execution_count": 5,
   "metadata": {},
   "outputs": [
    {
     "name": "stdout",
     "output_type": "stream",
     "text": [
      "[[2 4 1]\n",
      " [5 1 7]\n",
      " [6 1 2]]\n",
      "\n",
      "[[-0.5555839   0.35355339 -1.01015254]\n",
      " [ 0.80812204 -1.01015254  1.71725933]\n",
      " [ 1.26269068 -1.01015254 -0.5555839 ]]\n"
     ]
    }
   ],
   "source": [
    "### Assignment 4: Statistical Operations\n",
    "\n",
    "# 1. Create a NumPy array of shape (5, 5) filled with random integers. Compute the mean, median, standard deviation,\n",
    "# and variance of the array.\n",
    "# 2. Create a NumPy array of shape (3, 3) with values from 1 to 9. Normalize the array (i.e., scale the values to have a\n",
    "# mean of 0 and a standard deviation of 1).\n",
    "\n",
    "arr7 = np.random.randint(1, 10, size = (5, 5))\n",
    "# print(np.mean(arr7))\n",
    "# print(np.median(arr7))\n",
    "# print(np.std(arr7))\n",
    "# print(np.var(arr7))\n",
    "\n",
    "arr8 = np.random.randint(1, 10, size = (3, 3))\n",
    "print(arr8)\n",
    "print()\n",
    "arr8 = (arr8 - np.mean(arr8)) / np.std(arr8)\n",
    "print(arr8)"
   ]
  },
  {
   "cell_type": "code",
   "execution_count": 6,
   "metadata": {},
   "outputs": [
    {
     "name": "stdout",
     "output_type": "stream",
     "text": [
      "[[ 8  7 10]\n",
      " [ 4  4  5]\n",
      " [10  7 12]]\n",
      "[[ 4 10 12 12]\n",
      " [ 7  9  4 12]\n",
      " [ 9  9  6 10]\n",
      " [ 2  3 11 10]]\n"
     ]
    }
   ],
   "source": [
    "### Assignment 5: Broadcasting\n",
    "\n",
    "# 1. Create a NumPy array of shape (3, 3) filled with random integers. Add a 1D array of shape (3,) to each row of the\n",
    "# 2D array using broadcasting.\n",
    "# 2. Create a NumPy array of shape (4, 4) filled with random integers. Subtract a 1D array of shape (4,) from each column\n",
    "# of the 2D array using broadcasting.\n",
    "\n",
    "arr9       = np.random.randint(1, 10, size = (3, 3))\n",
    "base_list  = [1, 2, 3]\n",
    "arr1_1d    = np.array(base_list)\n",
    "arr9_broad = arr9 + arr1_1d\n",
    "\n",
    "print(arr9_broad)\n",
    "\n",
    "arr10   = np.random.randint(1, 10, size = (4, 4))\n",
    "base_list.append(4)\n",
    "arr1_2d = np.array(base_list)\n",
    "\n",
    "arr10_broad = arr10 + arr1_2d\n",
    "\n",
    "print(arr10_broad)\n"
   ]
  },
  {
   "cell_type": "code",
   "execution_count": 7,
   "metadata": {},
   "outputs": [
    {
     "name": "stdout",
     "output_type": "stream",
     "text": [
      "determinant -5353.0\n",
      "inverse [[ 0.05384615  0.3        -0.31538462]\n",
      " [-0.07307692 -0.05        0.14230769]\n",
      " [ 0.09038462 -0.175       0.11346154]]\n",
      "eigenvalues [36.72454422+0.j          0.63772789+3.70847285j  0.63772789-3.70847285j]\n",
      "matrix multiplication [[288 123]\n",
      " [370 154]]\n"
     ]
    }
   ],
   "source": [
    "### Assignment 6: Linear Algebra\n",
    "\n",
    "# 1. Create a NumPy array of shape (3, 3) representing a matrix. Compute its determinant, inverse, and eigenvalues.\n",
    "# 2. Create two NumPy arrays of shape (2, 3) and (3, 2). Perform matrix multiplication on these arrays.\n",
    "\n",
    "arr11           = np.random.randint(1, 20, size = (3, 3))\n",
    "det_arr11       = np.linalg.det(arr1)\n",
    "inverse_arr11   = np.linalg.inv(arr11)\n",
    "eigen_val_arr11 = np.linalg.eig(arr11).eigenvalues\n",
    "\n",
    "print('determinant', det_arr11)\n",
    "print('inverse', inverse_arr11)\n",
    "print('eigenvalues', eigen_val_arr11)\n",
    "\n",
    "arr12      = np.random.randint(1, 20, size = (2, 3))\n",
    "arr13      = np.random.randint(1, 20, size = (3, 2))\n",
    "matrix_mul = np.dot(arr12, arr13)\n",
    "\n",
    "print('matrix multiplication', matrix_mul)\n"
   ]
  },
  {
   "cell_type": "code",
   "execution_count": 8,
   "metadata": {},
   "outputs": [
    {
     "name": "stdout",
     "output_type": "stream",
     "text": [
      "[[13 14  9 23 23]\n",
      " [ 7 17  2 19 15]\n",
      " [21  2  5 15 10]\n",
      " [14  6 10  9 12]\n",
      " [16 13 14 10 17]]\n"
     ]
    }
   ],
   "source": [
    "### Assignment 7: Advanced Array Manipulation\n",
    "\n",
    "# 1. Create a NumPy array of shape (3, 3) with values from 1 to 9. Reshape the array to shape (1, 9) and then to shape (9, 1).\n",
    "# 2. Create a NumPy array of shape (5, 5) filled with random integers. Flatten the array and then reshape it back to (5, 5).\n",
    "\n",
    "arr14 = np.random.randint(1, 10, size = (3, 3))\n",
    "arr14.reshape(1, 9)\n",
    "arr14.reshape(9, 1)\n",
    "\n",
    "arr15 = np.random.randint(1, 26, size = (5, 5))\n",
    "arr15 = np.ndarray.flatten(arr15)\n",
    "arr15 = arr15.reshape(5, 5)\n",
    "print(arr15)\n"
   ]
  },
  {
   "cell_type": "code",
   "execution_count": 9,
   "metadata": {},
   "outputs": [
    {
     "name": "stdout",
     "output_type": "stream",
     "text": [
      "[21 10 19 14]\n",
      "\n",
      "[[0 0 3 0]\n",
      " [0 0 0 0]\n",
      " [5 0 0 4]\n",
      " [0 0 0 6]]\n"
     ]
    }
   ],
   "source": [
    "### Assignment 8: Fancy Indexing and Boolean Indexing\n",
    "\n",
    "# 1. Create a NumPy array of shape (5, 5) filled with random integers. Use fancy indexing to extract the elements at the\n",
    "# corners of the array.\n",
    "# 2. Create a NumPy array of shape (4, 4) filled with random integers. Use boolean indexing to set all elements greater\n",
    "# than 10 to 10.\n",
    "\n",
    "arr16 = np.random.randint(1, 26, size = (5, 5))\n",
    "print(arr16[[0, 0, -1, -1], [0, -1, 0, -1]])\n",
    "print()\n",
    "arr17 = np.random.randint(1, 26, size = (4, 4))\n",
    "arr17[arr17 > 10] = 0\n",
    "print(arr17)\n"
   ]
  },
  {
   "cell_type": "code",
   "execution_count": 10,
   "metadata": {},
   "outputs": [
    {
     "name": "stdout",
     "output_type": "stream",
     "text": [
      "[('Person 1', 40, 100.5 ) ('Person 2', 35,  80.75)]\n",
      "\n",
      "[('Person 2', 35,  80.75) ('Person 1', 40, 100.5 )]\n",
      "\n",
      "\n",
      "28.284271247461902\n"
     ]
    }
   ],
   "source": [
    "### Assignment 9: Structured Arrays\n",
    "\n",
    "# 1. Create a structured array with fields 'name' (string), 'age' (integer), and 'weight' (float).\n",
    "# Add some data and sort the array by age.\n",
    "# 2. Create a structured array with fields 'x' and 'y' (both integers). Add some data and compute the Euclidean\n",
    "# distance between each pair of points.\n",
    "\n",
    "dt    = np.dtype([('name', (np.str_, 10)), ('age', np.int32), ('weight', np.float32)])\n",
    "arr18 = np.array([('Person 1', 40, 100.50), ('Person 2', 35, 80.75)], dtype = dt)\n",
    "print(arr18)\n",
    "print()\n",
    "arr18 = np.sort(arr18, order = 'age')\n",
    "print(arr18)\n",
    "print()\n",
    "dt_1  = np.dtype([('x', np.int32), ('y', np.int32)])\n",
    "arr19 = np.array([(10, 20), (30, 40)], dtype = dt_1)\n",
    "print()\n",
    "p1 = np.array(list(arr19[0]))\n",
    "p2 = np.array(list(arr19[1]))\n",
    "\n",
    "euclidean_distance = np.linalg.norm(p1 - p2)\n",
    "print(euclidean_distance)"
   ]
  },
  {
   "cell_type": "code",
   "execution_count": 28,
   "metadata": {},
   "outputs": [
    {
     "name": "stdout",
     "output_type": "stream",
     "text": [
      "[[14 15 11]\n",
      " [ 6  9 14]\n",
      " [13 14 17]]\n",
      "\n",
      "[15  6 14 14]\n",
      "[12 12 12 12]\n"
     ]
    }
   ],
   "source": [
    "### Assignment 10: Masked Arrays\n",
    "\n",
    "# 1. Create a masked array of shape (4, 4) with random integers and mask the elements greater than 10. Compute the sum of the unmasked elements.\n",
    "# 2. Create a masked array of shape (3, 3) with random integers and mask the diagonal elements. Replace the masked elements with the mean of the unmasked elements.\n",
    "\n",
    "arr19                = np.random.randint(1, 20, size = (4, 4))\n",
    "greater_than_10_mask = arr19 > 10\n",
    "sum_unmasked         = arr19[~greater_than_10_mask].sum()\n",
    "\n",
    "# print(sum_unmasked)\n",
    "# print()\n",
    "\n",
    "arr20 = np.random.randint(1, 20, size = (3, 3))\n",
    "\n",
    "row_indexes_m    = []\n",
    "column_indexes_m = []\n",
    "arr20_len        = len(arr20)\n",
    "\n",
    "row_indexes_unm    = []\n",
    "column_indexes_unm = []\n",
    "\n",
    "for (i, value_row) in enumerate(arr20):\n",
    "    for (j, value_col) in enumerate(value_row):\n",
    "        if j == i or j == (arr20_len - 1) - i:\n",
    "            row_indexes_m.append(i)\n",
    "            column_indexes_m.append(j)\n",
    "        else:\n",
    "            row_indexes_unm.append(i)\n",
    "            column_indexes_unm.append(j)\n",
    "\n",
    "print(arr20)\n",
    "print()\n",
    "print(arr20[row_indexes_unm, column_indexes_unm])\n",
    "arr20[row_indexes_unm, column_indexes_unm] = arr20[row_indexes_m, column_indexes_m].mean()\n",
    "print(arr20[row_indexes_unm, column_indexes_unm])"
   ]
  },
  {
   "cell_type": "code",
   "execution_count": null,
   "metadata": {},
   "outputs": [],
   "source": []
  },
  {
   "cell_type": "code",
   "execution_count": null,
   "metadata": {},
   "outputs": [],
   "source": []
  },
  {
   "cell_type": "code",
   "execution_count": null,
   "metadata": {},
   "outputs": [],
   "source": []
  },
  {
   "cell_type": "code",
   "execution_count": null,
   "metadata": {},
   "outputs": [],
   "source": []
  },
  {
   "cell_type": "code",
   "execution_count": null,
   "metadata": {},
   "outputs": [],
   "source": []
  },
  {
   "cell_type": "code",
   "execution_count": null,
   "metadata": {},
   "outputs": [],
   "source": []
  },
  {
   "cell_type": "code",
   "execution_count": null,
   "metadata": {},
   "outputs": [],
   "source": []
  },
  {
   "cell_type": "code",
   "execution_count": null,
   "metadata": {},
   "outputs": [],
   "source": []
  }
 ],
 "metadata": {
  "kernelspec": {
   "display_name": "Python 3",
   "language": "python",
   "name": "python3"
  },
  "language_info": {
   "codemirror_mode": {
    "name": "ipython",
    "version": 3
   },
   "file_extension": ".py",
   "mimetype": "text/x-python",
   "name": "python",
   "nbconvert_exporter": "python",
   "pygments_lexer": "ipython3",
   "version": "3.12.0"
  }
 },
 "nbformat": 4,
 "nbformat_minor": 2
}
